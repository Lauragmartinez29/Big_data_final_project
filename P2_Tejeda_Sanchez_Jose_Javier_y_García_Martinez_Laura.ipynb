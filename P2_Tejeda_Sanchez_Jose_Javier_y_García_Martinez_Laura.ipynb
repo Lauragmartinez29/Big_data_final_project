{
  "nbformat": 4,
  "nbformat_minor": 0,
  "metadata": {
    "colab": {
      "provenance": []
    },
    "kernelspec": {
      "name": "python3",
      "display_name": "Python 3"
    },
    "language_info": {
      "name": "python"
    }
  },
  "cells": [
    {
      "cell_type": "markdown",
      "source": [
        "## This is the colab send by the proffessor as guideness to make the project. It has only a change in the path of the images files to make work in our case"
      ],
      "metadata": {
        "id": "PAhjR_GfKXlX"
      }
    },
    {
      "cell_type": "markdown",
      "source": [
        "This is a BigDL port of this example:\n",
        "https://www.kaggle.com/code/sanwal092/intro-to-cnn-using-keras-to-predict-pneumonia\n",
        "\n",
        "Please, read the original document to understand the basics of CNNs for image processing applications."
      ],
      "metadata": {
        "id": "H9w5YdB5U0aQ"
      }
    },
    {
      "cell_type": "markdown",
      "source": [
        "## First we intall bigdl and spark 3"
      ],
      "metadata": {
        "id": "OM7jTrBsODmD"
      }
    },
    {
      "cell_type": "code",
      "execution_count": null,
      "metadata": {
        "id": "P87GyoUtuxAx",
        "colab": {
          "base_uri": "https://localhost:8080/"
        },
        "outputId": "e2e3c1ea-ff43-48ef-9f30-df6240ce99a9"
      },
      "outputs": [
        {
          "output_type": "stream",
          "name": "stdout",
          "text": [
            "\u001b[2K     \u001b[90m━━━━━━━━━━━━━━━━━━━━━━━━━━━━━━━━━━━━━━━\u001b[0m \u001b[32m107.5/107.5 KB\u001b[0m \u001b[31m2.5 MB/s\u001b[0m eta \u001b[36m0:00:00\u001b[0m\n",
            "\u001b[2K     \u001b[90m━━━━━━━━━━━━━━━━━━━━━━━━━━━━━━━━━━━━━━━\u001b[0m \u001b[32m341.0/341.0 KB\u001b[0m \u001b[31m8.4 MB/s\u001b[0m eta \u001b[36m0:00:00\u001b[0m\n",
            "\u001b[2K     \u001b[90m━━━━━━━━━━━━━━━━━━━━━━━━━━━━━━━━━━━━━━━━\u001b[0m \u001b[32m2.9/2.9 MB\u001b[0m \u001b[31m32.8 MB/s\u001b[0m eta \u001b[36m0:00:00\u001b[0m\n",
            "\u001b[2K     \u001b[90m━━━━━━━━━━━━━━━━━━━━━━━━━━━━━━━━━━━━━━━━\u001b[0m \u001b[32m20.2/20.2 MB\u001b[0m \u001b[31m9.3 MB/s\u001b[0m eta \u001b[36m0:00:00\u001b[0m\n",
            "\u001b[2K     \u001b[90m━━━━━━━━━━━━━━━━━━━━━━━━━━━━━━━━━━━━━━━━\u001b[0m \u001b[32m1.1/1.1 MB\u001b[0m \u001b[31m21.2 MB/s\u001b[0m eta \u001b[36m0:00:00\u001b[0m\n",
            "\u001b[2K     \u001b[90m━━━━━━━━━━━━━━━━━━━━━━━━━━━━━━━━━━━━━━━━\u001b[0m \u001b[32m61.3/61.3 MB\u001b[0m \u001b[31m6.6 MB/s\u001b[0m eta \u001b[36m0:00:00\u001b[0m\n",
            "\u001b[2K     \u001b[90m━━━━━━━━━━━━━━━━━━━━━━━━━━━━━━━━━━━━━━━━\u001b[0m \u001b[32m71.1/71.1 MB\u001b[0m \u001b[31m11.8 MB/s\u001b[0m eta \u001b[36m0:00:00\u001b[0m\n",
            "\u001b[2K     \u001b[90m━━━━━━━━━━━━━━━━━━━━━━━━━━━━━━━━━━━━━━━━\u001b[0m \u001b[32m35.4/35.4 MB\u001b[0m \u001b[31m18.8 MB/s\u001b[0m eta \u001b[36m0:00:00\u001b[0m\n",
            "\u001b[2K     \u001b[90m━━━━━━━━━━━━━━━━━━━━━━━━━━━━━━━━━━━━━━━━\u001b[0m \u001b[32m71.5/71.5 KB\u001b[0m \u001b[31m1.7 MB/s\u001b[0m eta \u001b[36m0:00:00\u001b[0m\n",
            "\u001b[2K     \u001b[90m━━━━━━━━━━━━━━━━━━━━━━━━━━━━━━━━━━━━━━\u001b[0m \u001b[32m237.8/237.8 KB\u001b[0m \u001b[31m11.8 MB/s\u001b[0m eta \u001b[36m0:00:00\u001b[0m\n",
            "\u001b[2K     \u001b[90m━━━━━━━━━━━━━━━━━━━━━━━━━━━━━━━━━━━━━━\u001b[0m \u001b[32m246.5/246.5 KB\u001b[0m \u001b[31m12.0 MB/s\u001b[0m eta \u001b[36m0:00:00\u001b[0m\n",
            "\u001b[2K     \u001b[90m━━━━━━━━━━━━━━━━━━━━━━━━━━━━━━━━━━━━━━━━\u001b[0m \u001b[32m51.7/51.7 MB\u001b[0m \u001b[31m13.4 MB/s\u001b[0m eta \u001b[36m0:00:00\u001b[0m\n",
            "\u001b[2K     \u001b[90m━━━━━━━━━━━━━━━━━━━━━━━━━━━━━━━━━━━━━━━\u001b[0m \u001b[32m214.0/214.0 MB\u001b[0m \u001b[31m5.9 MB/s\u001b[0m eta \u001b[36m0:00:00\u001b[0m\n",
            "\u001b[?25h  Preparing metadata (setup.py) ... \u001b[?25l\u001b[?25hdone\n",
            "\u001b[2K     \u001b[90m━━━━━━━━━━━━━━━━━━━━━━━━━━━━━━━━━━━━━━\u001b[0m \u001b[32m198.6/198.6 KB\u001b[0m \u001b[31m10.8 MB/s\u001b[0m eta \u001b[36m0:00:00\u001b[0m\n",
            "\u001b[2K     \u001b[90m━━━━━━━━━━━━━━━━━━━━━━━━━━━━━━━━━━━━━━━━\u001b[0m \u001b[32m69.6/69.6 KB\u001b[0m \u001b[31m3.9 MB/s\u001b[0m eta \u001b[36m0:00:00\u001b[0m\n",
            "\u001b[2K     \u001b[90m━━━━━━━━━━━━━━━━━━━━━━━━━━━━━━━━━━━━━━━━\u001b[0m \u001b[32m80.6/80.6 KB\u001b[0m \u001b[31m5.0 MB/s\u001b[0m eta \u001b[36m0:00:00\u001b[0m\n",
            "\u001b[2K     \u001b[90m━━━━━━━━━━━━━━━━━━━━━━━━━━━━━━━━━━━━━━━━\u001b[0m \u001b[32m58.3/58.3 KB\u001b[0m \u001b[31m3.9 MB/s\u001b[0m eta \u001b[36m0:00:00\u001b[0m\n",
            "\u001b[?25h  Building wheel for pyspark (setup.py) ... \u001b[?25l\u001b[?25hdone\n"
          ]
        }
      ],
      "source": [
        "!pip -qq install bigdl-spark3\n",
        "exit()"
      ]
    },
    {
      "cell_type": "markdown",
      "source": [
        "## We initialize a spark session to start the program"
      ],
      "metadata": {
        "id": "p5er84g-OUtC"
      }
    },
    {
      "cell_type": "code",
      "source": [
        "from pyspark.sql import SparkSession\n",
        "from bigdl.dllib.nncontext import init_nncontext\n",
        "\n",
        "sc = init_nncontext(cluster_mode=\"local\")\n",
        "spark = SparkSession.builder.getOrCreate()"
      ],
      "metadata": {
        "colab": {
          "base_uri": "https://localhost:8080/"
        },
        "id": "rhjIAlI_u5yd",
        "outputId": "6e9963ad-3c3e-4297-eef3-7d72a7715e59"
      },
      "execution_count": null,
      "outputs": [
        {
          "output_type": "stream",
          "name": "stdout",
          "text": [
            "Current pyspark location is : /usr/local/lib/python3.8/dist-packages/pyspark/__init__.py\n",
            "Start to getOrCreate SparkContext\n",
            "pyspark_submit_args is:  --driver-class-path /usr/local/lib/python3.8/dist-packages/bigdl/share/friesian/lib/bigdl-friesian-spark_3.1.3-2.2.0-jar-with-dependencies.jar:/usr/local/lib/python3.8/dist-packages/bigdl/share/orca/lib/bigdl-orca-spark_3.1.3-2.2.0-jar-with-dependencies.jar:/usr/local/lib/python3.8/dist-packages/bigdl/share/core/lib/all-2.2.0.jar:/usr/local/lib/python3.8/dist-packages/bigdl/share/dllib/lib/bigdl-dllib-spark_3.1.3-2.2.0-jar-with-dependencies.jar pyspark-shell \n",
            "Successfully got a SparkContext\n"
          ]
        }
      ]
    },
    {
      "cell_type": "markdown",
      "source": [
        "## We give access the program to our Google Colab"
      ],
      "metadata": {
        "id": "zB2JsLbcOaVK"
      }
    },
    {
      "cell_type": "code",
      "source": [
        "from google.colab import drive\n",
        "drive.mount('/content/drive')"
      ],
      "metadata": {
        "id": "kEzteq_5FxI2",
        "colab": {
          "base_uri": "https://localhost:8080/"
        },
        "outputId": "81fcb70d-b213-472f-82ab-0633c0da79dd"
      },
      "execution_count": null,
      "outputs": [
        {
          "output_type": "stream",
          "name": "stdout",
          "text": [
            "Mounted at /content/drive\n"
          ]
        }
      ]
    },
    {
      "cell_type": "markdown",
      "source": [
        "## We download the train and test images in 2 dataframes and added a label column too where 1 means Normal and 2 Pneumonia"
      ],
      "metadata": {
        "id": "QHgtrS6pPGI9"
      }
    },
    {
      "cell_type": "code",
      "source": [
        "from bigdl.dllib.nnframes import NNImageReader\n",
        "from pyspark.sql.functions import lit\n",
        "\n",
        "datadir = \"/content/drive/MyDrive/Colab Notebooks/chest_xray\"\n",
        "\n",
        "train = \\\n",
        "  NNImageReader.readImages(f\"{datadir}/train/NORMAL/\", sc, image_codec=0)\\\n",
        "  .withColumn(\"label\", lit(1.0))\\\n",
        "  .union(\n",
        "      NNImageReader.readImages(f\"{datadir}/train/PNEUMONIA/\", sc, image_codec=0)\\\n",
        "      .withColumn(\"label\", lit(2.0)))\n",
        "\n",
        "test = \\\n",
        "  NNImageReader.readImages(f\"{datadir}/test/NORMAL/\", sc, image_codec=0)\\\n",
        "  .withColumn(\"label\", lit(1.0))\\\n",
        "  .union(\n",
        "      NNImageReader.readImages(f\"{datadir}/test/PNEUMONIA/\", sc, image_codec=0)\\\n",
        "      .withColumn(\"label\", lit(2.0)))\n",
        "\n",
        "val = \\\n",
        "  NNImageReader.readImages(f\"{datadir}/val/NORMAL/\", sc, image_codec=0)\\\n",
        "  .withColumn(\"label\", lit(1.0))\\\n",
        "  .union(\n",
        "      NNImageReader.readImages(f\"{datadir}/val/PNEUMONIA/\", sc, image_codec=0)\\\n",
        "      .withColumn(\"label\", lit(2.0)))"
      ],
      "metadata": {
        "id": "UuWiOMwpyt0a"
      },
      "execution_count": null,
      "outputs": []
    },
    {
      "cell_type": "markdown",
      "source": [
        "## We can see the columns in our data frames and the val data frame"
      ],
      "metadata": {
        "id": "Tvnh0mIlO8LJ"
      }
    },
    {
      "cell_type": "code",
      "source": [
        "val.printSchema()\n",
        "val.select([\"image.origin\", \"label\"]).show(truncate=False)"
      ],
      "metadata": {
        "id": "CGyoenPOCCam",
        "colab": {
          "base_uri": "https://localhost:8080/"
        },
        "outputId": "7073f32b-53da-4220-9c37-d74d4b44cd16"
      },
      "execution_count": null,
      "outputs": [
        {
          "output_type": "stream",
          "name": "stdout",
          "text": [
            "root\n",
            " |-- image: struct (nullable = true)\n",
            " |    |-- origin: string (nullable = true)\n",
            " |    |-- height: integer (nullable = false)\n",
            " |    |-- width: integer (nullable = false)\n",
            " |    |-- nChannels: integer (nullable = false)\n",
            " |    |-- mode: integer (nullable = false)\n",
            " |    |-- data: binary (nullable = false)\n",
            " |-- label: double (nullable = false)\n",
            "\n",
            "+--------------------------------------------------------------------------------------------------+-----+\n",
            "|origin                                                                                            |label|\n",
            "+--------------------------------------------------------------------------------------------------+-----+\n",
            "|file:/content/drive/MyDrive/Colab Notebooks/chest_xray/val/NORMAL/NORMAL2-IM-1440-0001.jpeg       |1.0  |\n",
            "|file:/content/drive/MyDrive/Colab Notebooks/chest_xray/val/NORMAL/NORMAL2-IM-1427-0001.jpeg       |1.0  |\n",
            "|file:/content/drive/MyDrive/Colab Notebooks/chest_xray/val/NORMAL/NORMAL2-IM-1437-0001.jpeg       |1.0  |\n",
            "|file:/content/drive/MyDrive/Colab Notebooks/chest_xray/val/NORMAL/NORMAL2-IM-1438-0001.jpeg       |1.0  |\n",
            "|file:/content/drive/MyDrive/Colab Notebooks/chest_xray/val/NORMAL/NORMAL2-IM-1431-0001.jpeg       |1.0  |\n",
            "|file:/content/drive/MyDrive/Colab Notebooks/chest_xray/val/NORMAL/NORMAL2-IM-1442-0001.jpeg       |1.0  |\n",
            "|file:/content/drive/MyDrive/Colab Notebooks/chest_xray/val/NORMAL/NORMAL2-IM-1436-0001.jpeg       |1.0  |\n",
            "|file:/content/drive/MyDrive/Colab Notebooks/chest_xray/val/NORMAL/NORMAL2-IM-1430-0001.jpeg       |1.0  |\n",
            "|file:/content/drive/MyDrive/Colab Notebooks/chest_xray/val/PNEUMONIA/person1950_bacteria_4881.jpeg|2.0  |\n",
            "|file:/content/drive/MyDrive/Colab Notebooks/chest_xray/val/PNEUMONIA/person1947_bacteria_4876.jpeg|2.0  |\n",
            "|file:/content/drive/MyDrive/Colab Notebooks/chest_xray/val/PNEUMONIA/person1951_bacteria_4882.jpeg|2.0  |\n",
            "|file:/content/drive/MyDrive/Colab Notebooks/chest_xray/val/PNEUMONIA/person1952_bacteria_4883.jpeg|2.0  |\n",
            "|file:/content/drive/MyDrive/Colab Notebooks/chest_xray/val/PNEUMONIA/person1949_bacteria_4880.jpeg|2.0  |\n",
            "|file:/content/drive/MyDrive/Colab Notebooks/chest_xray/val/PNEUMONIA/person1946_bacteria_4874.jpeg|2.0  |\n",
            "|file:/content/drive/MyDrive/Colab Notebooks/chest_xray/val/PNEUMONIA/person1954_bacteria_4886.jpeg|2.0  |\n",
            "|file:/content/drive/MyDrive/Colab Notebooks/chest_xray/val/PNEUMONIA/person1946_bacteria_4875.jpeg|2.0  |\n",
            "+--------------------------------------------------------------------------------------------------+-----+\n",
            "\n"
          ]
        }
      ]
    },
    {
      "cell_type": "markdown",
      "source": [
        "## We also can see the images dimensions"
      ],
      "metadata": {
        "id": "TS91oshvPfMk"
      }
    },
    {
      "cell_type": "code",
      "source": [
        "val.select([\"image.height\", \"image.width\"]).show(truncate=False)"
      ],
      "metadata": {
        "id": "GNqAegrrjhFn",
        "colab": {
          "base_uri": "https://localhost:8080/"
        },
        "outputId": "49c11b92-909f-4eee-af2d-36380085831e"
      },
      "execution_count": null,
      "outputs": [
        {
          "output_type": "stream",
          "name": "stdout",
          "text": [
            "+------+-----+\n",
            "|height|width|\n",
            "+------+-----+\n",
            "|1225  |1632 |\n",
            "|1416  |1776 |\n",
            "|1104  |1240 |\n",
            "|1104  |1328 |\n",
            "|1416  |1736 |\n",
            "|1302  |1564 |\n",
            "|928   |1288 |\n",
            "|1040  |1272 |\n",
            "|864   |1256 |\n",
            "|664   |1152 |\n",
            "|656   |1016 |\n",
            "|952   |1192 |\n",
            "|944   |1416 |\n",
            "|592   |968  |\n",
            "|1128  |1664 |\n",
            "|712   |1072 |\n",
            "+------+-----+\n",
            "\n"
          ]
        }
      ]
    },
    {
      "cell_type": "markdown",
      "source": [
        "## This code is to rescale the images in 64 x 64"
      ],
      "metadata": {
        "id": "u5wp70yRPm2n"
      }
    },
    {
      "cell_type": "code",
      "source": [
        "from PIL import Image\n",
        "from io import BytesIO\n",
        "from IPython.display import HTML\n",
        "import pandas as pd\n",
        "import base64\n",
        "\n",
        "pd.set_option('display.max_colwidth', None)\n",
        "\n",
        "def get_thumbnail(path):\n",
        "    i = Image.open(path)\n",
        "    i.thumbnail((64, 64), Image.LANCZOS)\n",
        "    return i\n",
        "\n",
        "def image_base64(im):\n",
        "    if isinstance(im, str):\n",
        "        im = get_thumbnail(im)\n",
        "    with BytesIO() as buffer:\n",
        "        im.save(buffer, 'jpeg')\n",
        "        return base64.b64encode(buffer.getvalue()).decode()\n",
        "\n",
        "def image_formatter(im):\n",
        "    return f'<img src=\"data:image/jpeg;base64,{image_base64(im)}\">'\n"
      ],
      "metadata": {
        "id": "1k-d6CAvWMnq"
      },
      "execution_count": null,
      "outputs": []
    },
    {
      "cell_type": "markdown",
      "source": [
        "## In this table we can see the path of the image, the image and the label"
      ],
      "metadata": {
        "id": "7YtejcPsPvzt"
      }
    },
    {
      "cell_type": "code",
      "source": [
        "from pyspark.sql.functions import substring\n",
        "\n",
        "HTML(\n",
        "val.select(val[\"image.origin\"], substring(val[\"image.origin\"], 6, 255).alias(\"image\"), val[\"label\"])\\\n",
        ".toPandas()\\\n",
        ".to_html(formatters={\"image\": image_formatter}, escape=False)\n",
        ")"
      ],
      "metadata": {
        "id": "U-zkQ0N0XU0H",
        "colab": {
          "base_uri": "https://localhost:8080/",
          "height": 1000
        },
        "outputId": "fd698ec3-c955-41be-f995-05029c150c2a"
      },
      "execution_count": null,
      "outputs": [
        {
          "output_type": "execute_result",
          "data": {
            "text/plain": [
              "<IPython.core.display.HTML object>"
            ],
            "text/html": [
              "<table border=\"1\" class=\"dataframe\">\n",
              "  <thead>\n",
              "    <tr style=\"text-align: right;\">\n",
              "      <th></th>\n",
              "      <th>origin</th>\n",
              "      <th>image</th>\n",
              "      <th>label</th>\n",
              "    </tr>\n",
              "  </thead>\n",
              "  <tbody>\n",
              "    <tr>\n",
              "      <th>0</th>\n",
              "      <td>file:/content/drive/MyDrive/Colab Notebooks/chest_xray/val/NORMAL/NORMAL2-IM-1440-0001.jpeg</td>\n",
              "      <td><img src=\"data:image/jpeg;base64,/9j/4AAQSkZJRgABAQAAAQABAAD/2wBDAAgGBgcGBQgHBwcJCQgKDBQNDAsLDBkSEw8UHRofHh0aHBwgJC4nICIsIxwcKDcpLDAxNDQ0Hyc5PTgyPC4zNDL/wAALCAAwAEABAREA/8QAHwAAAQUBAQEBAQEAAAAAAAAAAAECAwQFBgcICQoL/8QAtRAAAgEDAwIEAwUFBAQAAAF9AQIDAAQRBRIhMUEGE1FhByJxFDKBkaEII0KxwRVS0fAkM2JyggkKFhcYGRolJicoKSo0NTY3ODk6Q0RFRkdISUpTVFVWV1hZWmNkZWZnaGlqc3R1dnd4eXqDhIWGh4iJipKTlJWWl5iZmqKjpKWmp6ipqrKztLW2t7i5usLDxMXGx8jJytLT1NXW19jZ2uHi4+Tl5ufo6erx8vP09fb3+Pn6/9oACAEBAAA/APNZ9LDWwijUsO5Paqd34VvrtYmsrSPakYTMRzvI7nvmr2h6JfafLmW2lgZRuZ23KPzFdUriXTrhGcPgB185jgkHsavyIWsDEiIWYglLdd2PqxNc9e+DkvF+13dwywA4ZYgHk+nHAp1l4csVhb7JA6ovVpSCxH4dKlnSGKykIwPY9aztCu31Bo3bb5fGfU/WujuNJhupXkhkKWsCkyMOCMdvfNYcurubcWdkZViMm7ylPyv/ALx71uaJa+ZDMwjeJHjI+Y7lJyK0PECyWPh1vLjEhB+7FwBx1Ncfpd41qY/LW4gbfksDuDfUd67M3UH2UzWioI2XE4jPRiP5V5p4p1Ex3bxJwQOfeovBTTTX32eIZZhhR711mv35hljW2fNpEoUOfulv4jjvz3rnbd01C52qlxMcEgrwAfpXongq02wyr5bQptJ3FshjWzrNkl3phgnBKnPEZwDXlF7CNFuEtBNOjqx5AGGB9+K3NAvlt5Ge7ZHhmUxM0fJw3dh7da4nxlayWevTQyfeB5PrW18OEEM15fkAm3hZwD09P6029ndZDJbMHRj/AK6THP0FT6ZJbyAozyPcSuFxHjCgehr1fw1bRxWriFWiGwfK/wBa079FFsAz4HcIK818bafcyoLqGWJliGCsq9Vrj7WZNPuUeXfDIDlNh3K31qX4ijzL60umCiSaFHfb0LEc49qZ4PuTBoWtOqhnVE2qejZYZB9qq21vd39yz6dbz3zZ+Zvuovtnpitmx0jX4L2GeZYotrhtqPn+Q9K9f8Mo32Z8HzAQBhuvrV/VCY7VMskQOOn1rmdZs7q8sJ/Lt4pozEQxLBc/nXjaQ3GmshEUsUpO1Vlw8RPpkd6l8YN/oOjJzkQMWBOcNuOR9Ks+BLJNSg1K0kZlRvLdtv8AEqkkr+NezaTolqbZPs8Yt4AMbAMVtxaFAfuQhj/eYVesdNNuku+MHBADJ6VJcWSuYgYF2Bc/P3rj9eiivoJ12FIkYKxQnDH09hxXGw2lvHP9kljWaG4BQ7Rnr6H2riPH1smn31jp8bl0tbfyw5/i+YnP61//2Q==\"></td>\n",
              "      <td>1.0</td>\n",
              "    </tr>\n",
              "    <tr>\n",
              "      <th>1</th>\n",
              "      <td>file:/content/drive/MyDrive/Colab Notebooks/chest_xray/val/NORMAL/NORMAL2-IM-1427-0001.jpeg</td>\n",
              "      <td><img src=\"data:image/jpeg;base64,/9j/4AAQSkZJRgABAQAAAQABAAD/2wBDAAgGBgcGBQgHBwcJCQgKDBQNDAsLDBkSEw8UHRofHh0aHBwgJC4nICIsIxwcKDcpLDAxNDQ0Hyc5PTgyPC4zNDL/wAALCAAzAEABAREA/8QAHwAAAQUBAQEBAQEAAAAAAAAAAAECAwQFBgcICQoL/8QAtRAAAgEDAwIEAwUFBAQAAAF9AQIDAAQRBRIhMUEGE1FhByJxFDKBkaEII0KxwRVS0fAkM2JyggkKFhcYGRolJicoKSo0NTY3ODk6Q0RFRkdISUpTVFVWV1hZWmNkZWZnaGlqc3R1dnd4eXqDhIWGh4iJipKTlJWWl5iZmqKjpKWmp6ipqrKztLW2t7i5usLDxMXGx8jJytLT1NXW19jZ2uHi4+Tl5ufo6erx8vP09fb3+Pn6/9oACAEBAAA/AOE8HG6tbt9OvEaOTaH2secGvXLWzS4tYjIQcgdfXFS2/h6C3vhqUKmSRFxgsQVGeoFdFFeRlD/CQOh4qreXheEbAW9hXD3/AIFt9d1hdVv2ceWdqJuwpx7d61IdEt4G3RAFgMKTxiuL8X3JtILiUnAHyL9B0rz7w7qd3ceIEnmmaWbAG5upHpX0F4dxLZ7mH3jlc9jWrPdJaA9N4HU9FpLS4F3GWBXJ64p90yW0Clhk9uP6VHBdR3e0NxIO/TFQ6jGIbSRl4fGBjtXh3xA1FmUW68Lnnnqa5rwiu7XY19Qa+jNJAtdLRmIXamcnpk1nX99IX+b52x2GW/8ArVqaBvZiSX2kDAIBHT1FaWr2r3FniMtvUhgAcZ9a5u1uxBOFIJIPG45A/H1rYu2M9mHPVwQw96+ffHvy3qL3yazfBah/FNnGejNg19EXlwtrp8YKgq3JOcbe3XtXNECecNH5jITk4+VPy7122hQhYchAgJyADnA7VrTrlBXGa1YSWdw93bqyBjl9oyB749Ku6bcLPZvExBk27+DkY9j/AJxXhXxKHl+JGiHQDP51leDWC+KbJj2Y/wAq911AXd3NDb2aCVljXerH5E92/pSx+F7yQ75Jw7f3edorqtGtZbSFYpQmV4GzPStOfGwZx+NYuoyRrA+9tq4OWzkVynh24VZ3iTBDIxyp+UjHVf0zXj/xDlM3imRj2QCsPQ5jb63aSDqJAK+pNNijKBgACcFiP4jgf0rbjQYqZEAbIFEqB1AIzVK8hQ27L5aEMMFWHBFcudJgtbxJ7OJYFYkyIp+U/h2/Cvn3xjcC48T3bDorbfyrK08ldStiDg+Yv86+q9JJMEWf7orbjJ25qZCc9aazEkAnvVS9JyozwRWZcgCEHHOK+W9eOdevs/8APZq//9k=\"></td>\n",
              "      <td>1.0</td>\n",
              "    </tr>\n",
              "    <tr>\n",
              "      <th>2</th>\n",
              "      <td>file:/content/drive/MyDrive/Colab Notebooks/chest_xray/val/NORMAL/NORMAL2-IM-1437-0001.jpeg</td>\n",
              "      <td><img src=\"data:image/jpeg;base64,/9j/4AAQSkZJRgABAQAAAQABAAD/2wBDAAgGBgcGBQgHBwcJCQgKDBQNDAsLDBkSEw8UHRofHh0aHBwgJC4nICIsIxwcKDcpLDAxNDQ0Hyc5PTgyPC4zNDL/wAALCAA5AEABAREA/8QAHwAAAQUBAQEBAQEAAAAAAAAAAAECAwQFBgcICQoL/8QAtRAAAgEDAwIEAwUFBAQAAAF9AQIDAAQRBRIhMUEGE1FhByJxFDKBkaEII0KxwRVS0fAkM2JyggkKFhcYGRolJicoKSo0NTY3ODk6Q0RFRkdISUpTVFVWV1hZWmNkZWZnaGlqc3R1dnd4eXqDhIWGh4iJipKTlJWWl5iZmqKjpKWmp6ipqrKztLW2t7i5usLDxMXGx8jJytLT1NXW19jZ2uHi4+Tl5ufo6erx8vP09fb3+Pn6/9oACAEBAAA/APK9F3sJeRtD4Pzc8jPT+td1FZG70eEsPuDjPftXT+FdamaU2Nx/rYuFY9JF/wAa7cmKdMuoJ7560yWdYLchcAD8hXlfi+9udVvhbwhms0IMjf327fgP51BFb/YtFmkxhpOB7Dp/jXC69KcJHnqag0dtt3Kf9kV6j4USS/gUFV2DjJNdTBpcC/O42FT8r/0q8k0qw7VfPI680y5ikuogJJCIz17VQn06GNTHHGPmH3jyW/wrlfEL/YYfshUgfoe9eY6u4fUMDoBS6SCbiXHJOAK9o8MWS6Zo0MlwQu7JwTjJ+tXDqEt5dLECAuc4Vc/rW3ZxfuiTz9Rg1Dq6OtgxjwSMHBGcjNU7S7aQLHMoVdvUfw++K4zxdDKWy/JXnPqPWvLr7/kISfQVueCLMXviBYiM4YHH8q9T1u+RHWFSiQgBUZuSPXC1HoJmE5laZpF6A4wK7e0IeM859jROny4zjPtXM6zB9nmRtylT90A7SD9ay9eVbzRBcuu2WP5CpHIXHGf1rxa8O6/lP0rqfhuceKycj5Yy/Ptk118Fre388ktnCDBK27zZuue9dFZaZfW7qzTKVGMhR1rqLHd5eCOKlnO3HIGa53xLKBpzbEjkkyMK3XrXMJL5uianCzt5yRiRkY52AHoD6c1485L3ErHu5/nXWfDePzfE06ets3Svb7SzjiUYXAxwo7VdMeF4AAqSBTtJ4PNMuo2ZlC8cViaroq6gm12dGHRkP9K5KbTrjR4721m/eRvayMs3qR/D/WvHF5LH1J/nXZ/DL914tLNjaYiOvXvXvEIAjBPJPNPZlRdznAoinjMZYKRzUU90FUsqFiKbA7TKxMQVfXPWuf8AFxWHQb0nB/csQT2PT+RNfPSRsnytjI64INdV4F/5GpP90177B91ajvei0L/qB/vVHcf8e3/bM1atP+PYfQVyfj7/AJFa9/65t/SvArP/AFP/AAGv/9k=\"></td>\n",
              "      <td>1.0</td>\n",
              "    </tr>\n",
              "    <tr>\n",
              "      <th>3</th>\n",
              "      <td>file:/content/drive/MyDrive/Colab Notebooks/chest_xray/val/NORMAL/NORMAL2-IM-1438-0001.jpeg</td>\n",
              "      <td><img src=\"data:image/jpeg;base64,/9j/4AAQSkZJRgABAQAAAQABAAD/2wBDAAgGBgcGBQgHBwcJCQgKDBQNDAsLDBkSEw8UHRofHh0aHBwgJC4nICIsIxwcKDcpLDAxNDQ0Hyc5PTgyPC4zNDL/wAALCAA1AEABAREA/8QAHwAAAQUBAQEBAQEAAAAAAAAAAAECAwQFBgcICQoL/8QAtRAAAgEDAwIEAwUFBAQAAAF9AQIDAAQRBRIhMUEGE1FhByJxFDKBkaEII0KxwRVS0fAkM2JyggkKFhcYGRolJicoKSo0NTY3ODk6Q0RFRkdISUpTVFVWV1hZWmNkZWZnaGlqc3R1dnd4eXqDhIWGh4iJipKTlJWWl5iZmqKjpKWmp6ipqrKztLW2t7i5usLDxMXGx8jJytLT1NXW19jZ2uHi4+Tl5ufo6erx8vP09fb3+Pn6/9oACAEBAAA/AMDwk3ngRyMPKxuGT0PpXf6aTbPiEYic/dP866SwmkwXHzKT2PIrQafgHmql07THaKw7m2RnKjc7AYUngD6CsPUj9ljljbByOFI7n0rx/wAaOIzHGp6nmus0fxHa6q0BgiMHlrswQOcYwePx47fjXpumRCS1GWLOecmi71SCyURxM3mE8sMD+daNhOLu3D7s4OOuaqa7O1squM7c4OBnB96h07VBeuBMqKRwGAI/Os7xSGWwldVy68ivn/xHO89/ljmtHwaXkvBEnUtXvdpIbbTfMU/N90dyR7Vg3d1E9z+8iSI5zl25rsNBi2aevyou7n5KtX0SyqY2JAYdhXDy3MlpdtaNNjacfvF+Vh65rYlaK90sopDeWvJByCD6V8++MLb7LrskYHynkU/wZcCDXowTgNwPrXtuoXgh0y3/AH/kswJV+7ZP3R71jw+bNOjS2yJH13StljXoeiyieyjbKkFQRtq9dgDbk44riPFqbfKlWWMclGEg4Ppk9qo6DdRx3As1iaIz5D87kbjsexryfx+CPELA9hXP6ZMYNSgkBwQ4r2zVJ1ezsE24JhDCY8iH/wCuar6Xb3N1cbLRXu1Xhp5Dhc16J4fsLi1iImdGLc7VGAPpWteRyGJNhAPSud1nRLjUYdjuhXIPCZrl18PX2lzb7KTfuYbkfuAe1ec/E+LHiCO4VSFnj3gHt6/rmuIjbbKrehBr3LT7JtaTTEc/6F9lRpwOrHkD+Veh6dp0NvAkccapEvCooxW3bxbT90Dip5I8oOBxULRDHoaz7u3Rgdy84614l8XtPczWUsaltilWP49a8qr6A+HErXfhyzaQ8ruXI7gY4r0q1UbQavxqAafIQqE4zVOWUk4PSqshz8p5Brx74ryiHyRtJXJGN1f/2Q==\"></td>\n",
              "      <td>1.0</td>\n",
              "    </tr>\n",
              "    <tr>\n",
              "      <th>4</th>\n",
              "      <td>file:/content/drive/MyDrive/Colab Notebooks/chest_xray/val/NORMAL/NORMAL2-IM-1431-0001.jpeg</td>\n",
              "      <td><img src=\"data:image/jpeg;base64,/9j/4AAQSkZJRgABAQAAAQABAAD/2wBDAAgGBgcGBQgHBwcJCQgKDBQNDAsLDBkSEw8UHRofHh0aHBwgJC4nICIsIxwcKDcpLDAxNDQ0Hyc5PTgyPC4zNDL/wAALCAA0AEABAREA/8QAHwAAAQUBAQEBAQEAAAAAAAAAAAECAwQFBgcICQoL/8QAtRAAAgEDAwIEAwUFBAQAAAF9AQIDAAQRBRIhMUEGE1FhByJxFDKBkaEII0KxwRVS0fAkM2JyggkKFhcYGRolJicoKSo0NTY3ODk6Q0RFRkdISUpTVFVWV1hZWmNkZWZnaGlqc3R1dnd4eXqDhIWGh4iJipKTlJWWl5iZmqKjpKWmp6ipqrKztLW2t7i5usLDxMXGx8jJytLT1NXW19jZ2uHi4+Tl5ufo6erx8vP09fb3+Pn6/9oACAEBAAA/AKPgua4hhgF0jRSDGVbrtNdxNYQXUodgCGHYdfes7T/A9lpeqzahprtFcSn94quR/wCO9K6mO7uobfDpuK+gqC9e4vbZUJ2Kw5HrXHP8MdEk1X+0bsN5xYN5YbKk/St1NJtrSdXRQAg44rhfiDeeTYzyo3X5R9K5Pwfr15czv9qmaVj8pZuuO1e2eHmEulx/89MAjPNO1HUTa7o4SpJGCw5Y/wCFT6ReG9gKSh9wGDvXH61Lq8rWmnlo1fgAfIcdazdN1F32xXHEfbzOCPoe9XdYAXS5cckjI+leF+P76R7eOLonH41jeDGxdOvckAV9B2S/2fpO8DsF64wMetYV9KJWyrEITyPug/j1Nbfh2COO6cIBk9cOTjjmt7ULZLq2aGQKVcYOa46WJdOvmifdkAcKNwb3xW3byfb7B0YLtA42nj8uorwr4iRmGbySMGOQis74fBZPEcUbcjO7H0r3bVbh4LaFISS4TO1RliD6A8fia5+PZcXkbSCJGJ5yxdj9ewrtfDYWVGlXbg8KAmNoHatydflHOPwrD1rTUu41kCIZ4/uM3H4ZFYWmXUkV6n2ncDniN/ve+COGHtXmvxhiWK/gZRjeSD+Fch4JmMPiuz2n75K/pXtXiKQNfRwM0m9UUJDEcGXjufrnFLY6drEiqYdPS0H958bj+fNdpoMNxCGjnbLElhx61r3HyxqScZPaqFwxKEL83tivPZ5lh1mUsHj/AHuVhcEBz/s56HNcP8ZHLatZ+jIX/PBriPCz7PFOmn/puo/M4r6p0/TIVme4ZA9w5z5hHIHZR6CtqO2UDpmpktwr5AH0p0kIdQDwAc1XlQBSoGPcVj32n29xEY7mJZIz0yOh9a8K+MyNFrOnROdzC35b15xXE+FzjxRpn/Xwg/WvruwA8ofUitVFAWpAozUM/CfjVbrwelU51G4r2NeCfG/B1jTjgZ8lhn8a/9k=\"></td>\n",
              "      <td>1.0</td>\n",
              "    </tr>\n",
              "    <tr>\n",
              "      <th>5</th>\n",
              "      <td>file:/content/drive/MyDrive/Colab Notebooks/chest_xray/val/NORMAL/NORMAL2-IM-1442-0001.jpeg</td>\n",
              "      <td><img src=\"data:image/jpeg;base64,/9j/4AAQSkZJRgABAQAAAQABAAD/2wBDAAgGBgcGBQgHBwcJCQgKDBQNDAsLDBkSEw8UHRofHh0aHBwgJC4nICIsIxwcKDcpLDAxNDQ0Hyc5PTgyPC4zNDL/wAALCAA1AEABAREA/8QAHwAAAQUBAQEBAQEAAAAAAAAAAAECAwQFBgcICQoL/8QAtRAAAgEDAwIEAwUFBAQAAAF9AQIDAAQRBRIhMUEGE1FhByJxFDKBkaEII0KxwRVS0fAkM2JyggkKFhcYGRolJicoKSo0NTY3ODk6Q0RFRkdISUpTVFVWV1hZWmNkZWZnaGlqc3R1dnd4eXqDhIWGh4iJipKTlJWWl5iZmqKjpKWmp6ipqrKztLW2t7i5usLDxMXGx8jJytLT1NXW19jZ2uHi4+Tl5ufo6erx8vP09fb3+Pn6/9oACAEBAAA/AOQs/DNvbQKGWPdjsCT/AErptP8A9AjELthVw0cmOR7Guhhurq5We4DwFgBnafnwe4FKlwYyQdwZl67cnNVDeTXUbeXknaeNm41jTaPbxpvupmWZjxGqbj9Se30qhDmzlfazBB68iuM8X3KNCwB5d8ir2g61HdxeU+zcSGII+YEeh9K7PTkjkYtJkoRjHanXt5aaG77ypulXEY3YCH3HUkelUtK1MX9+jvMnmbh/eG78a3rpzBYzbWIZhwCdoHPrXL6Xr8G17O7/AHmW4KyZKEegPWr+oyJbwyQk5MihlYdNv/168p8QTNJd7CfunFV9EL/2xa+WSDvGfp3r2SGZdO0pZSSJ5UbyQP4f9ont6VxN7qQmnYscy5yTEpZvxY10PhePN7Hu8wFgDiVe1dNeQrJDKrBVUnALnpXms6xw3ATZDI+5iQPlOc9q2Wne60Te8heeF+jcOiEcBvx6V59rbB73eP4uoq34Rg8/WkAGWA4H1Ndj4hv1lumiBHkw/LC7thMew/i571hQu00yl7glAeRHHtrtPCqyXN/dTMXCr8qq5yD7Cum1BfKtAgKLuJ6815l4gguYLnd5AljfOHj4ZT1I/r0pmjzk+dAW82SeFlEndMDdtb344rjdRkMl65z0NbfgyVbbULm6cgLBAZCT09P61pfYdUvcPBYmSP8AgnnwCw9gelPOj61GymSG52qM4jKj+tdt4LhmjsWM0UiSZwUlHPJ7Vtas2Gij+ReMnP1rkPEaRyadP5jGFwu9XXsR0/yK5TR3A1IgEGR42Mjr910xyR71yUzb5nb1Jrr/AAPbRv8AaJJYw6MyptPRsc/z5r1axtkUAuMt6elX5bYOvZfpTrW28u3G4bwTketVb+ySe4ZpIxtAA61zWt6DFcWjRq37o/eAY5+lcXHpzaNeSgEtamCV1duocKflP+ea4mvQvAygWSsOoY4+p7/pXp9ioEanua0No2kntUoRTGhHHHaqEu6Od23E57HtWZqLGLJUAZGSPWuK8Uy+VpV6qqOIgQfTJx/ImvMK/9k=\"></td>\n",
              "      <td>1.0</td>\n",
              "    </tr>\n",
              "    <tr>\n",
              "      <th>6</th>\n",
              "      <td>file:/content/drive/MyDrive/Colab Notebooks/chest_xray/val/NORMAL/NORMAL2-IM-1436-0001.jpeg</td>\n",
              "      <td><img src=\"data:image/jpeg;base64,/9j/4AAQSkZJRgABAQAAAQABAAD/2wBDAAgGBgcGBQgHBwcJCQgKDBQNDAsLDBkSEw8UHRofHh0aHBwgJC4nICIsIxwcKDcpLDAxNDQ0Hyc5PTgyPC4zNDL/wAALCAAuAEABAREA/8QAHwAAAQUBAQEBAQEAAAAAAAAAAAECAwQFBgcICQoL/8QAtRAAAgEDAwIEAwUFBAQAAAF9AQIDAAQRBRIhMUEGE1FhByJxFDKBkaEII0KxwRVS0fAkM2JyggkKFhcYGRolJicoKSo0NTY3ODk6Q0RFRkdISUpTVFVWV1hZWmNkZWZnaGlqc3R1dnd4eXqDhIWGh4iJipKTlJWWl5iZmqKjpKWmp6ipqrKztLW2t7i5usLDxMXGx8jJytLT1NXW19jZ2uHi4+Tl5ufo6erx8vP09fb3+Pn6/9oACAEBAAA/APPrzT7PUVeSKVHMYGZYuQ3HQ/41nQeEZr1j0jYchW4rpvD/AIX1XSGLxoRG3JV3GD79eK7kanc28EayRS5OAAqiQZ+tUtZn1G+QxWsPzY6u44P0rz2bwRc+dLPeAqfvFmYHcfXjtTINCitzmdEYEZTd2x61i6tqTOGjQ4izj/e/+t7Umj6m9uNgOQxGVPTNerabYi5soXBDTsp3dgR3qpqWpx2nlW1qCuw5Z2GWb6DsK6fTFW8sYpDl8nIYDbkfSsnxLNNZTRGJtsbNg/u8qD7mo4RHqyGWGNlbaC6fwN6lT/SuR8albd4xAxC7cEDpXnt1L5kntT7BWkuEReWZgBXuFsrWGhxbJdlyy4Axzt74/wAa59XNzqIiLs0rEgCPk5Pqa9I0228qySPqUAGW78VFqVml0Gjffj2HFcdBHc6dqUkbSCONSTuA+Uj3WsTx7ZqYVuYDuicZUjkfgfTNeYSffrf8F2y3XiCFHBIBHT3r03Wb5DMYJI/3SfIsgbahA6ZP8VVdLvLS2uVRZM5kGTGmABXpOnMskGQT2+8KLlR5pGWz6iuW8SWUU1s853ebCN6tHw4/xrmrqddT8M3UZiUJb/MG6FieCCOx6GvIpf8AWsPeuo+HhI8UxYXdhWYj1wCa9V0zwl9pc3F7I1wHOVVjhUHoBXRxeHLSKMLHCqj0VQK1rKz8mLCk4B6NUd3bM9wcOw4HSsXWNFkvLCWHzSWYYzjkDvXEtpWoWJuYbp/NtpIHjjbod2OFP5cGvHZf9a+f7xrs/hpHGfEjt82VhY/hkA179YRYQZPyjoB2rWjjyMDAqQR7VPQ81T1CRoFyuNx4rKu5nNjcsT8yJuUj1rj4L6e9DrckOYgXB9cdv1rwq+j8q/uI852ysP1r/9k=\"></td>\n",
              "      <td>1.0</td>\n",
              "    </tr>\n",
              "    <tr>\n",
              "      <th>7</th>\n",
              "      <td>file:/content/drive/MyDrive/Colab Notebooks/chest_xray/val/NORMAL/NORMAL2-IM-1430-0001.jpeg</td>\n",
              "      <td><img src=\"data:image/jpeg;base64,/9j/4AAQSkZJRgABAQAAAQABAAD/2wBDAAgGBgcGBQgHBwcJCQgKDBQNDAsLDBkSEw8UHRofHh0aHBwgJC4nICIsIxwcKDcpLDAxNDQ0Hyc5PTgyPC4zNDL/wAALCAA0AEABAREA/8QAHwAAAQUBAQEBAQEAAAAAAAAAAAECAwQFBgcICQoL/8QAtRAAAgEDAwIEAwUFBAQAAAF9AQIDAAQRBRIhMUEGE1FhByJxFDKBkaEII0KxwRVS0fAkM2JyggkKFhcYGRolJicoKSo0NTY3ODk6Q0RFRkdISUpTVFVWV1hZWmNkZWZnaGlqc3R1dnd4eXqDhIWGh4iJipKTlJWWl5iZmqKjpKWmp6ipqrKztLW2t7i5usLDxMXGx8jJytLT1NXW19jZ2uHi4+Tl5ufo6erx8vP09fb3+Pn6/9oACAEBAAA/AON1TwU0rSTyhw8jFiSvf0rk7jwZq6XAWG2Z0Y8EHpXt/guW9sNLhtbzJMahQ4zXex3YManIOaZe3gihLFwvHUmvn74pTX+oXkbxwyfYozjdjJZvU1ymmeE9R1ABzCY4z/e4NbcfgllYKTl+3Fe0i8sNXjiMKgBSchgBjt2qxHZywkLuAI6fKOlVtQ1PaEit5WfH3znC/nWrZqLi2jY4HP8AC26qmqXH2S4U+W0nsGH8qgu7S0vIkf7OjBxkNGcc+hFZlppka3D7U2xgg4P61n6tqEGn3awxJmRjjanH5msX4f6m82orAx3K0Zbn2r0u8ujBaEsm5XHOeABXKShZrgSKAR6ynAH0FdloqY02M/Kf9wYFZ3iO0DqswQEoedrYbBqtpLJHlJpid3GCMYPbPofem+Ir5NN02S4+6U+UD1JrydfElrHr0M2ou3k7W5HOCelbXwwtt07XjHCJHjr2711+r6kTNmGfgn5Uxlh6YXt9TVW0hbDzSRqr5wDK2489/wD61ehWUYW2UDBGB0+lVr6BZ0licKVYYx3rjIZxZXBilicybsbH/oe49qXxtFJe+GWmUYON5Ue1eCau2bhVz2zXrPw7k+y+GJbrGQkRJ4z1OKsLHc3c7PZW8sUb8nau52Pua1rPTL9FUGxZe++dx1z6CvQLEk267ufcVDc/65xgH2zzXFa+7Q3qCDazyKR5MnG7HofWnK7SeH7kSyF3BGVblkGMYNfPmqH/AImc47K5UfSvaPhhCJ/C6BgSPMAK+o5r060s4olARBn6dKum2RhgqCalihVEAC4+lVZ7OOSRi6cZ7GsDW/DNrqAUs0qsowrq3K/nXPtYzaXp2oW1xJ5zmMSCbGNyg8Z96+fL5/Mv7hx3kY/rXtfwilc+HnBOdrkCvWbcYjGKtDgU6M5QfSkkADGqs4HTHBrkPFjGPw5qTL1WMgGvmEnJyetf/9k=\"></td>\n",
              "      <td>1.0</td>\n",
              "    </tr>\n",
              "    <tr>\n",
              "      <th>8</th>\n",
              "      <td>file:/content/drive/MyDrive/Colab Notebooks/chest_xray/val/PNEUMONIA/person1950_bacteria_4881.jpeg</td>\n",
              "      <td><img src=\"data:image/jpeg;base64,/9j/4AAQSkZJRgABAQAAAQABAAD/2wBDAAgGBgcGBQgHBwcJCQgKDBQNDAsLDBkSEw8UHRofHh0aHBwgJC4nICIsIxwcKDcpLDAxNDQ0Hyc5PTgyPC4zNDL/wAALCAAsAEABAREA/8QAHwAAAQUBAQEBAQEAAAAAAAAAAAECAwQFBgcICQoL/8QAtRAAAgEDAwIEAwUFBAQAAAF9AQIDAAQRBRIhMUEGE1FhByJxFDKBkaEII0KxwRVS0fAkM2JyggkKFhcYGRolJicoKSo0NTY3ODk6Q0RFRkdISUpTVFVWV1hZWmNkZWZnaGlqc3R1dnd4eXqDhIWGh4iJipKTlJWWl5iZmqKjpKWmp6ipqrKztLW2t7i5usLDxMXGx8jJytLT1NXW19jZ2uHi4+Tl5ufo6erx8vP09fb3+Pn6/9oACAEBAAA/AOA8D3LRwiMHGTwa9VhtWYW8ruWdl4GK0Zns7WIS3MUfmZ4MY5H17VPp03mK2JPMUjIO3aRU125hslII3MernFUhBb3UDNcKJpEXPlq3B/H+lZ89qRmZI12RjOwcVw/jDU1bT5cjB2lQp7VT8P6VDYywNGXZdm85ORkgYHQc8nI+nrXpEdytpbBJWVZmTIZjwgPYVkT3UzuIy0jIT1jTj866Xw7l4CH38D+MdOe1aOqogsHJYLhDg4ziuX0u6SCbztwJI/g6H6ir+ozrFY+bHgxy5DY7GvGvGEjDzkY963PAMSG3WaTJSP8AeOOpOP8AIrobnUf9IcSFAGyUYfO9OsN002Q8rRqcsScAfhXd6JBiDPzbTjAer9/GGt2QnClcEYzXDX8P2N1VY1ZlP8HDfXHepLeY3UMkE7g+auxR0IPbI/rXlXjWJ0b5xggbD746Vs+B5/L8M3M2GO0BcL1IJ5Aq9AJIpMoYY7Y87TyR9e+a27O6tiURJZSrMv3eB1r0nTADbKFHTjmp7oAJgtj8K5XxHZO9uJk+doxkleCBXH2tx9nvo33+fJuAV1/gz/e9RXGfEmVY9RaEddxrQ8BwXNz4YaC1IE0lx949AoHP869B0vwPZxrvYyys3XLYH5Vr/wDCJW6geW0iAfwhzXSWFs0UAGdwHc9amnRmdVBA74rOv7Hzbdt+AMYyDiuKm0IRXMckZEcoH+t7H1BryP4jy7/Fk8Y6JxXbfCXnQ3/6+f6V7DAoU4AwK0ERQoOKmVRs6Y5prqN3SqVyBjHb0rDvYUMhiK/Iece9fOXjxi3jO/J/v1//2Q==\"></td>\n",
              "      <td>2.0</td>\n",
              "    </tr>\n",
              "    <tr>\n",
              "      <th>9</th>\n",
              "      <td>file:/content/drive/MyDrive/Colab Notebooks/chest_xray/val/PNEUMONIA/person1947_bacteria_4876.jpeg</td>\n",
              "      <td><img src=\"data:image/jpeg;base64,/9j/4AAQSkZJRgABAQAAAQABAAD/2wBDAAgGBgcGBQgHBwcJCQgKDBQNDAsLDBkSEw8UHRofHh0aHBwgJC4nICIsIxwcKDcpLDAxNDQ0Hyc5PTgyPC4zNDL/wAALCAAlAEABAREA/8QAHwAAAQUBAQEBAQEAAAAAAAAAAAECAwQFBgcICQoL/8QAtRAAAgEDAwIEAwUFBAQAAAF9AQIDAAQRBRIhMUEGE1FhByJxFDKBkaEII0KxwRVS0fAkM2JyggkKFhcYGRolJicoKSo0NTY3ODk6Q0RFRkdISUpTVFVWV1hZWmNkZWZnaGlqc3R1dnd4eXqDhIWGh4iJipKTlJWWl5iZmqKjpKWmp6ipqrKztLW2t7i5usLDxMXGx8jJytLT1NXW19jZ2uHi4+Tl5ufo6erx8vP09fb3+Pn6/9oACAEBAAA/AOU8F6pcXs5adw8rKMkgDOOBxXpP2QSQqx5Y9h2q9HM1uEinfewHGSMj8auLO7Nlc4IHNV7u8SJv3zAZ4ALVQvIQ6kJHGFYfeXnP1rnNRi+wwGP5hvGSO2K8f8UOJL/I7cV1Xw9t3e683naBtHua9MvNUW3zaxiRm/idOAfbNV9LUz3rPI6Nhc4Zi3euugX92CMYHHFU9QtRPuU7eenHSsO0uPssv7xXfqDtPFV/EI32vmr8yldw7HFeH+JSP7RwK9G+H4SDTDO4XailsscAfWtKW5mnmI817lSeBGCB+dbmhrFA4ASOOZ1wcfN+tdnbL+5xx17VHKoDnOPpiuT1m0NpcG6iRmDnDeWclT64qr532vS5lklDso3DjDKO+RXiPiZduqsK77wfK8fhWRvJ85XdYyh6euTXV2Phy6ulDG6KK3OxB0rbtPDj2jK4mY7emcV0tmkiRAMM+4pJyVlIAHTpWDrtrczWMgig3McY2tg1y9nFLb3pinVzLMjIu8fMoI9e4ryDxVxrUgPavU/hrbJJ4ehZxuXzGJUjgnjH5c16dZxLgAAKPQCr4iUDpUsca7eKjZF3k4FQTQo6kEYrB1CBFHIBYEbWPVT6189eN4xF4oukXoHOK//Z\"></td>\n",
              "      <td>2.0</td>\n",
              "    </tr>\n",
              "    <tr>\n",
              "      <th>10</th>\n",
              "      <td>file:/content/drive/MyDrive/Colab Notebooks/chest_xray/val/PNEUMONIA/person1951_bacteria_4882.jpeg</td>\n",
              "      <td><img src=\"data:image/jpeg;base64,/9j/4AAQSkZJRgABAQAAAQABAAD/2wBDAAgGBgcGBQgHBwcJCQgKDBQNDAsLDBkSEw8UHRofHh0aHBwgJC4nICIsIxwcKDcpLDAxNDQ0Hyc5PTgyPC4zNDL/wAALCAApAEABAREA/8QAHwAAAQUBAQEBAQEAAAAAAAAAAAECAwQFBgcICQoL/8QAtRAAAgEDAwIEAwUFBAQAAAF9AQIDAAQRBRIhMUEGE1FhByJxFDKBkaEII0KxwRVS0fAkM2JyggkKFhcYGRolJicoKSo0NTY3ODk6Q0RFRkdISUpTVFVWV1hZWmNkZWZnaGlqc3R1dnd4eXqDhIWGh4iJipKTlJWWl5iZmqKjpKWmp6ipqrKztLW2t7i5usLDxMXGx8jJytLT1NXW19jZ2uHi4+Tl5ufo6erx8vP09fb3+Pn6/9oACAEBAAA/APP9L8OXNtcRJBMHijdZlfb1bH8v8K9O0O2NsAzOTJ1yqnn8zXQm/GfKUl2xnPaldGkyTwpHQCswW9pcF0aIgg4GTjNYmr+GILgPstyrdOuQK5K98JhUIwSF7dhXD6xpcli4JTCE4/Gvc7HTYraKM7huPbFbFwFgtTJEi5I289PesqJ3EkZXOWbABOPyrpERjH83PasmWFoLsyJsG859MH61olvNsSWO4kYYj1rClmgRGhlTHq1efeJNHEx3rh4mPDDmu3tr0XF0pU5Uj5fpWtqLYtY1Bw4GfXOfQVnWcbRMHZNpLdWOSf8ACuotWDxY4/Oo7mIOjDn2471DaMrxvCvQjOfeuL8UXf2BzIeK5uHVQJSOHhf76Hoa1vC9z9ouIkU5w5X8q7e6je5chOAOFI6kf4VAumSgcynP+yK2bFXQEMTj3FLco+8gcg89azoVnhILg/Ic9a474jwCbSXmUEB1LD2NeRWupSxffYkV3nwvne71SR25CscCvZIYlC4xUwUDoMCnxLhiQD+FEqAkEjt1qFoxjpkVyfjm1E3hyccZXp9MV4DZ2c99dpbW6bpXPGTgDHJJPYAck13/AMJP+P6f/er2uL/VipewqSLr+FJL978KZ2P0rmfF3/IAufpXhnhzprH/AGD5v6V//9k=\"></td>\n",
              "      <td>2.0</td>\n",
              "    </tr>\n",
              "    <tr>\n",
              "      <th>11</th>\n",
              "      <td>file:/content/drive/MyDrive/Colab Notebooks/chest_xray/val/PNEUMONIA/person1952_bacteria_4883.jpeg</td>\n",
              "      <td><img src=\"data:image/jpeg;base64,/9j/4AAQSkZJRgABAQAAAQABAAD/2wBDAAgGBgcGBQgHBwcJCQgKDBQNDAsLDBkSEw8UHRofHh0aHBwgJC4nICIsIxwcKDcpLDAxNDQ0Hyc5PTgyPC4zNDL/wAALCAAzAEABAREA/8QAHwAAAQUBAQEBAQEAAAAAAAAAAAECAwQFBgcICQoL/8QAtRAAAgEDAwIEAwUFBAQAAAF9AQIDAAQRBRIhMUEGE1FhByJxFDKBkaEII0KxwRVS0fAkM2JyggkKFhcYGRolJicoKSo0NTY3ODk6Q0RFRkdISUpTVFVWV1hZWmNkZWZnaGlqc3R1dnd4eXqDhIWGh4iJipKTlJWWl5iZmqKjpKWmp6ipqrKztLW2t7i5usLDxMXGx8jJytLT1NXW19jZ2uHi4+Tl5ufo6erx8vP09fb3+Pn6/9oACAEBAAA/APO7S31Az7LSeSWBc7HYbTyMGum0rRJio320fHcn/Gu30y2a2UBNsbHqAev4V0EErCM+YPxHNWEnBXGc/WiS4KxnbnPtzXJ6/d3FxayR25aFum/HNea3089huDSozDsWwa7bS9LgtrdPOADHjr09q6fT7SLYRtzxwKkvJltEKRDYw6nbzVXTJWeV1zlTzggil1u8e0EccZUMw65IpNPnFyixz8uOA6sM1PeaahhKOd3P8Vcb4i8LwSxeZHGpYjkKOc1l6Prcl/emN2z5Z6/yFel2UiwWYllYKSMJnuaxrx4prsruj+nNaWmQbGIUHp13ZFS6rbNKQy7iVGcAdayrOUrKAW2jPV0/rW1fTRpaLIuCpHLA5FcDq/ikae/zso54UnOa4LwPLLPrhiDEqzDA9K9jvdQRf9FDsCvACD+tUYtzXIZvN+rYNdRpQDJvHc4461NcLmRjxx2JrnLyJre5Jw4Q5OVORT4buK+0y5jyFVF3Erxn1yO1eLeMrRI1t74XiyTSOyGNW5VQTgkdsjFanwwtP391dkEiNTjHXJ4FegppOpSIGIKDH3c81NDp98jDMMrH17Cun0m3migAlO45z83WnXEhVnwFzk8VyXiK+jby4xI0Tg5zms3Trx2vpEn6mNtpXpIMdD614/qtzKL64t93yeZxn9K9Y+Eth5ek+cy8uc16oiKByBTuMdBT1xgcj8ai8tSeQKq3ukWV8B58KMw6NjkVy1z4dXS7iSWI/ugrMv8AsnHQV8+6gN2pXHqJDX0F8PY1Tw/bbVA+Wu0paf1XPtUYp3asrWv+QfL/ALpr5avSRqc57+Yf51//2Q==\"></td>\n",
              "      <td>2.0</td>\n",
              "    </tr>\n",
              "    <tr>\n",
              "      <th>12</th>\n",
              "      <td>file:/content/drive/MyDrive/Colab Notebooks/chest_xray/val/PNEUMONIA/person1949_bacteria_4880.jpeg</td>\n",
              "      <td><img src=\"data:image/jpeg;base64,/9j/4AAQSkZJRgABAQAAAQABAAD/2wBDAAgGBgcGBQgHBwcJCQgKDBQNDAsLDBkSEw8UHRofHh0aHBwgJC4nICIsIxwcKDcpLDAxNDQ0Hyc5PTgyPC4zNDL/wAALCAArAEABAREA/8QAHwAAAQUBAQEBAQEAAAAAAAAAAAECAwQFBgcICQoL/8QAtRAAAgEDAwIEAwUFBAQAAAF9AQIDAAQRBRIhMUEGE1FhByJxFDKBkaEII0KxwRVS0fAkM2JyggkKFhcYGRolJicoKSo0NTY3ODk6Q0RFRkdISUpTVFVWV1hZWmNkZWZnaGlqc3R1dnd4eXqDhIWGh4iJipKTlJWWl5iZmqKjpKWmp6ipqrKztLW2t7i5usLDxMXGx8jJytLT1NXW19jZ2uHi4+Tl5ufo6erx8vP09fb3+Pn6/9oACAEBAAA/APNPBV75YkiJxg5Br0rT4WvFFzI+dvy4A6VpFzCvmXM4SDqFZQS3sBUmlXn20krD5Z5x8uFP5dDWokssNuWlJUdyXwKpyyx3MCzRxCWIkqXEh61iajZoIRJFbDHUgck1geIL1P7IJB5iw2T2IrjrNbMXsS6cV2OAGKk/e/8ArevevUfDaM1vNK2TCo4HTdiq2r3i3txsYsHPy4hHb61peF7UwNcLtlUbsfvOhrc1m2km02WGFgkjIdpxnmuU0WWW2lO58IfvqoyD65FbupGOLT5biEb0YfKeuPX8a8l8XXzfZpYQcDPPvWJ4SKteiNuhP5V69dzR2enwWqlY3ADgyHahz0HuayYbq7mvAjbpMHc2yPAA9c123h+1VLYyZY7+SGrVmHQZGPYVzWr2xtbgXEcKMjH5tp2kH1/GltZzcW81vORuKlljIw2R/OvI/HcX2e4K9mArF8I7m8Q28ajJc4xXpeu3McuqNE8SuicR3Ehwqj0A9KTT79YJB/pWdy4xFETmvQ9BuVubFWXc2AAd4wfyrQm4dRnGfSqd+kUtvJFOQVYYIZeK43TZ7a31KNIZTMWbbkNlV7dOorzj4iSY1MQc/KxBzWf4EXPiq3faW8tWfA74GcV7FpnhhGZptRYTysxdYz92IHnAH9a6e10uKMgrEigDg4q9BbBN+FBJ60k8ZEkXO3jtUcsQkUgjI/2hnNcvfeH7YM0sEQtrr+GaMYwfcdxXk3xNjMfiNcgAsgY49cc/rUfw1APirJHSF/5V71pvzwIW5Pqa1EqZQBnHpSSKPlOOaY4BTpWdP90jtivC/ikP+JxZHuYOfzNf/9k=\"></td>\n",
              "      <td>2.0</td>\n",
              "    </tr>\n",
              "    <tr>\n",
              "      <th>13</th>\n",
              "      <td>file:/content/drive/MyDrive/Colab Notebooks/chest_xray/val/PNEUMONIA/person1946_bacteria_4874.jpeg</td>\n",
              "      <td><img src=\"data:image/jpeg;base64,/9j/4AAQSkZJRgABAQAAAQABAAD/2wBDAAgGBgcGBQgHBwcJCQgKDBQNDAsLDBkSEw8UHRofHh0aHBwgJC4nICIsIxwcKDcpLDAxNDQ0Hyc5PTgyPC4zNDL/wAALCAAnAEABAREA/8QAHwAAAQUBAQEBAQEAAAAAAAAAAAECAwQFBgcICQoL/8QAtRAAAgEDAwIEAwUFBAQAAAF9AQIDAAQRBRIhMUEGE1FhByJxFDKBkaEII0KxwRVS0fAkM2JyggkKFhcYGRolJicoKSo0NTY3ODk6Q0RFRkdISUpTVFVWV1hZWmNkZWZnaGlqc3R1dnd4eXqDhIWGh4iJipKTlJWWl5iZmqKjpKWmp6ipqrKztLW2t7i5usLDxMXGx8jJytLT1NXW19jZ2uHi4+Tl5ufo6erx8vP09fb3+Pn6/9oACAEBAAA/AONTSlsbYQrcRsAVlBwOTjp/StCw0lrpZLneRLuzuJxmunTV5tLt0W8bzGK/uyT/ADNWdN1iS/UuFAXHOGzzmpNQvJYYM7SRgnjH9ayJIPt8JeFmVQMupXaM/wBax9V0iNFiVvmD9wfu1j6zoghsS9tIZCPvY9KwLO9Z7wBmLNnkk16ZoiKLVnf/AFaje30rE1KWS6u87wYs5HmdvbAro/C9sMyjCc8hk4P5Vt3tqsyeW20ZGDu61mQW8GnlgznaTyq85H061m+Ig8EJK8ELkHrxXAHV3jOYmwScMh6Gub0p3Oqx5OcnNezRiSz0APHnzHxkDg7e/J6fWseyt4nk3u6KoO7ZH85/E122jRrEQFPBHQjFakyZ6fpzWFrI8nZcBRnO35hj9RWZrubjSBMSS4XD/wBP0rxa6naLUGx0B5FWfDkBuNdhjHUsB+Zr2O9tmvSsECF1hXy/mOFBHf3NEGiXSlS0nA7IMVv6fbSQKiEv8v8Ae5zWjcgmIFeee3AqjfwNLYuPmUjBBzXP/Z3a0mtn2sJAcuOMEdCR+ma8T1iEwapIrDByQQfatvwDEJPEaE8FTkH0OK9ztIFaJey/zq8sS44GBUkSKr8Zp0uCBk5qCSPcpANZV3a4VmXAfHBHevEfHMKx627oMBiGx9RX/9k=\"></td>\n",
              "      <td>2.0</td>\n",
              "    </tr>\n",
              "    <tr>\n",
              "      <th>14</th>\n",
              "      <td>file:/content/drive/MyDrive/Colab Notebooks/chest_xray/val/PNEUMONIA/person1954_bacteria_4886.jpeg</td>\n",
              "      <td><img src=\"data:image/jpeg;base64,/9j/4AAQSkZJRgABAQAAAQABAAD/2wBDAAgGBgcGBQgHBwcJCQgKDBQNDAsLDBkSEw8UHRofHh0aHBwgJC4nICIsIxwcKDcpLDAxNDQ0Hyc5PTgyPC4zNDL/wAALCAArAEABAREA/8QAHwAAAQUBAQEBAQEAAAAAAAAAAAECAwQFBgcICQoL/8QAtRAAAgEDAwIEAwUFBAQAAAF9AQIDAAQRBRIhMUEGE1FhByJxFDKBkaEII0KxwRVS0fAkM2JyggkKFhcYGRolJicoKSo0NTY3ODk6Q0RFRkdISUpTVFVWV1hZWmNkZWZnaGlqc3R1dnd4eXqDhIWGh4iJipKTlJWWl5iZmqKjpKWmp6ipqrKztLW2t7i5usLDxMXGx8jJytLT1NXW19jZ2uHi4+Tl5ufo6erx8vP09fb3+Pn6/9oACAEBAAA/APDNNuTb3SHJAzmvUrV4tcsCI1LOACQOme9WtN8B6W90Zw0iSDkqEzj8fSu8s3vbC0EMU3mqGGMjnH0NQ6vbtqMWy+u9keOVPeuQm8I2FpdubeKR5Wx80igY/KsPxHdw6fYSWgJ3YC/N2xXl0r+ZMzepq3qF+L+8WZYvKAULtznp3r1H4d71tApAIdSWJ6KvrXSahq0kf7jSvLIb5WWRirN7+tdLpAkfT41uGDTLjfht2DXPeNIrpbqGVXlEH3cI4XB7fnVfStVSFPJuJZHf7qPKmNv4jrXnfxGWaHVV3gqrKcD3B/8Ar1wlPiXfKq+pxXumgWZ07w2Gt/LFxKoRC5wCO/8AkVpW1jPDPE6x4jUAOscYALH07112mQeXCSQQzcnd1qDVLWO4jkikXdGRyNucV51dwzaXemNV5Y/JJGdpI/3W4Nc/4/VLzQba7DrJJE+yRgMc+hHY4xXmlWLAgX8BbpvFfQdvpcl7pNjbxNtCIGYg4IJ5rbj0i4jCgOgAGMgnJra0+F4odrk59uRVW+k23Dr82cY61xXjGaE6c/mN5ZBGPMXI61594huN/g11UEItwqjJznj17jjj06V5/VnTk83U7WMfxSqP1r6c0cfuVJ4XoF9cd66OFflHAH1qyq8Zx1PaqcturSs5QEk/jWRq2nRXts0UiLIh6owyDXjfjrTBpOizQxjbA9yhjT+7w2R/KvNavaL/AMhuy/67L/OvprROVH0roo+gqwAML9agk4JxWffcLx6V498WyRYWwHeYE/8AfJryWv/Z\"></td>\n",
              "      <td>2.0</td>\n",
              "    </tr>\n",
              "    <tr>\n",
              "      <th>15</th>\n",
              "      <td>file:/content/drive/MyDrive/Colab Notebooks/chest_xray/val/PNEUMONIA/person1946_bacteria_4875.jpeg</td>\n",
              "      <td><img src=\"data:image/jpeg;base64,/9j/4AAQSkZJRgABAQAAAQABAAD/2wBDAAgGBgcGBQgHBwcJCQgKDBQNDAsLDBkSEw8UHRofHh0aHBwgJC4nICIsIxwcKDcpLDAxNDQ0Hyc5PTgyPC4zNDL/wAALCAArAEABAREA/8QAHwAAAQUBAQEBAQEAAAAAAAAAAAECAwQFBgcICQoL/8QAtRAAAgEDAwIEAwUFBAQAAAF9AQIDAAQRBRIhMUEGE1FhByJxFDKBkaEII0KxwRVS0fAkM2JyggkKFhcYGRolJicoKSo0NTY3ODk6Q0RFRkdISUpTVFVWV1hZWmNkZWZnaGlqc3R1dnd4eXqDhIWGh4iJipKTlJWWl5iZmqKjpKWmp6ipqrKztLW2t7i5usLDxMXGx8jJytLT1NXW19jZ2uHi4+Tl5ufo6erx8vP09fb3+Pn6/9oACAEBAAA/APIY4JLOdEsrhZY43EiPtGCxHP16D8q7TwpfCy++DExPLgE5+tdsdXLJuEiFemR3qNrqa4CleM+o/pWFdWFvNdMJZS0xG7aWAz7VlXGjgO5S2UHHQ5OKypNMBiOwAEdawr+3O90ZDvxgD+tbOm2sAtFaQkMfuj1rrdMsopLdRt+fPBHFQX9wss/kxhlRT8qsf1xXSaRums42yDj720/zrN1XT/8ASvtCIdy8EhOKtRbprVtzbpAMH6VwWtXD2zsqsyHOeDVfTNWinsrq0uoUkdsPFKB86kehrOW+P21FBwucLXoukSAaY8xyPk4I7E1StgZbnkA+rKNxP412Okpsh24/76GanuIFcMpXIPqawLaYQXr2zqAQdrMTn5fr/jXCeO4jbyEj8K4uC5liIOT9QcGrQfdfxAdjXq+n5XR4YgoYyDLKeeO3FTQWF0SGWNV9Nx/oK6HTIZolCuASOMqcVclU+ZgY6elcnrltepeiRIQVI5aMgNXLeMl+3aMJwhV4v3bAjB6cV56nIFWNNUyaiueTmvb9HtwY0wAGCBc+wroordFUYH41ajRRnp+IodRu6/pVS6t1dfmAIrj/ABRZJ/ZVyuMgxnBrxdRtYr6Eirui/wDITX6ivctFH7hPfrXQLU8ZIJHahiSxzUL8oa5PxN/yDbj/AHDXhj/6+X/eNf/Z\"></td>\n",
              "      <td>2.0</td>\n",
              "    </tr>\n",
              "  </tbody>\n",
              "</table>"
            ]
          },
          "metadata": {},
          "execution_count": 7
        }
      ]
    },
    {
      "cell_type": "code",
      "source": [
        "len(val.head(1)[0]['image']['data'])"
      ],
      "metadata": {
        "id": "ZS_HojhOuFLg",
        "colab": {
          "base_uri": "https://localhost:8080/"
        },
        "outputId": "77591a2d-8aab-4633-b5c8-58c6d8f9f444"
      },
      "execution_count": null,
      "outputs": [
        {
          "output_type": "execute_result",
          "data": {
            "text/plain": [
              "1999200"
            ]
          },
          "metadata": {},
          "execution_count": 8
        }
      ]
    },
    {
      "cell_type": "code",
      "source": [
        "val.head(1)[0]['image']['height'] * val.head(1)[0]['image']['width']"
      ],
      "metadata": {
        "id": "JXvx36E8u0-j",
        "colab": {
          "base_uri": "https://localhost:8080/"
        },
        "outputId": "3feb65a7-950b-4701-871f-eddabcd031d4"
      },
      "execution_count": null,
      "outputs": [
        {
          "output_type": "execute_result",
          "data": {
            "text/plain": [
              "1999200"
            ]
          },
          "metadata": {},
          "execution_count": 9
        }
      ]
    },
    {
      "cell_type": "markdown",
      "source": [
        "## Now we create the model"
      ],
      "metadata": {
        "id": "hpNkAi3nQIxa"
      }
    },
    {
      "cell_type": "code",
      "source": [
        "from bigdl.dllib.keras.models import Sequential\n",
        "from bigdl.dllib.keras.layers import Dense, Conv2D, MaxPooling2D, Flatten\n",
        "kmodel = Sequential()\\\n",
        "          .add(Conv2D(32, 3, 3, activation=\"relu\", input_shape=(1, 64, 64)))\\\n",
        "          .add(MaxPooling2D(pool_size = (2, 2)))\\\n",
        "          .add(Conv2D(32, 3, 3, activation=\"relu\"))\\\n",
        "          .add(MaxPooling2D(pool_size = (2, 2)))\\\n",
        "          .add(Flatten())\\\n",
        "          .add(Dense(output_dim = 128, activation = 'relu'))\\\n",
        "          .add(Dense(output_dim = 1, activation = 'sigmoid'))"
      ],
      "metadata": {
        "colab": {
          "base_uri": "https://localhost:8080/"
        },
        "id": "RlUwJ0HlxDYi",
        "outputId": "46658649-efbb-4903-91e7-3df83e2a927e"
      },
      "execution_count": null,
      "outputs": [
        {
          "output_type": "stream",
          "name": "stdout",
          "text": [
            "creating: createZooKerasSequential\n",
            "creating: createZooKerasConvolution2D\n",
            "creating: createZooKerasMaxPooling2D\n",
            "creating: createZooKerasConvolution2D\n",
            "creating: createZooKerasMaxPooling2D\n",
            "creating: createZooKerasFlatten\n",
            "creating: createZooKerasDense\n",
            "creating: createZooKerasDense\n"
          ]
        }
      ]
    },
    {
      "cell_type": "code",
      "source": [
        "print(kmodel.summary())"
      ],
      "metadata": {
        "id": "uUrof9CdR3LU",
        "colab": {
          "base_uri": "https://localhost:8080/"
        },
        "outputId": "d96b52f7-4e2e-41d9-bf60-819ec72ae9fa"
      },
      "execution_count": null,
      "outputs": [
        {
          "output_type": "stream",
          "name": "stdout",
          "text": [
            "Model Summary:\n",
            "------------------------------------------------------------------------------------------------------------------------\n",
            "Layer (type)                            Output Shape              Param #       Connected to                          \n",
            "========================================================================================================================\n",
            "Inputb5138b74 (Input)                   (None, 1, 64, 64)         0                                                   \n",
            "________________________________________________________________________________________________________________________\n",
            "Convolution2Daadf21ce (Convolution2D)   (None, 32, 62, 62)        320           Inputb5138b74                         \n",
            "________________________________________________________________________________________________________________________\n",
            "MaxPooling2D2944f58 (MaxPooling2D)      (None, 32, 31, 31)        0             Convolution2Daadf21ce                 \n",
            "________________________________________________________________________________________________________________________\n",
            "Convolution2Dcf9f8560 (Convolution2D)   (None, 32, 29, 29)        9248          MaxPooling2D2944f58                   \n",
            "________________________________________________________________________________________________________________________\n",
            "MaxPooling2Dc3a91852 (MaxPooling2D)     (None, 32, 14, 14)        0             Convolution2Dcf9f8560                 \n",
            "________________________________________________________________________________________________________________________\n",
            "Flatten8fded330 (Flatten)               (None, 6272)              0             MaxPooling2Dc3a91852                  \n",
            "________________________________________________________________________________________________________________________\n",
            "Dense6d007814 (Dense)                   (None, 128)               802944        Flatten8fded330                       \n",
            "________________________________________________________________________________________________________________________\n",
            "Dense9f8e17f8 (Dense)                   (None, 1)                 129           Dense6d007814                         \n",
            "________________________________________________________________________________________________________________________\n",
            "Total params: 812,641\n",
            "Trainable params: 812,641\n",
            "Non-trainable params: 0\n",
            "------------------------------------------------------------------------------------------------------------------------\n",
            "Model Summary:\n",
            "------------------------------------------------------------------------------------------------------------------------\n",
            "Layer (type)                            Output Shape              Param #       Connected to                          \n",
            "========================================================================================================================\n",
            "Inputb5138b74 (Input)                   (None, 1, 64, 64)         0                                                   \n",
            "________________________________________________________________________________________________________________________\n",
            "Convolution2Daadf21ce (Convolution2D)   (None, 32, 62, 62)        320           Inputb5138b74                         \n",
            "________________________________________________________________________________________________________________________\n",
            "MaxPooling2D2944f58 (MaxPooling2D)      (None, 32, 31, 31)        0             Convolution2Daadf21ce                 \n",
            "________________________________________________________________________________________________________________________\n",
            "Convolution2Dcf9f8560 (Convolution2D)   (None, 32, 29, 29)        9248          MaxPooling2D2944f58                   \n",
            "________________________________________________________________________________________________________________________\n",
            "MaxPooling2Dc3a91852 (MaxPooling2D)     (None, 32, 14, 14)        0             Convolution2Dcf9f8560                 \n",
            "________________________________________________________________________________________________________________________\n",
            "Flatten8fded330 (Flatten)               (None, 6272)              0             MaxPooling2Dc3a91852                  \n",
            "________________________________________________________________________________________________________________________\n",
            "Dense6d007814 (Dense)                   (None, 128)               802944        Flatten8fded330                       \n",
            "________________________________________________________________________________________________________________________\n",
            "Dense9f8e17f8 (Dense)                   (None, 1)                 129           Dense6d007814                         \n",
            "________________________________________________________________________________________________________________________\n",
            "Total params: 812,641\n",
            "Trainable params: 812,641\n",
            "Non-trainable params: 0\n",
            "------------------------------------------------------------------------------------------------------------------------\n"
          ]
        }
      ]
    },
    {
      "cell_type": "code",
      "source": [
        "from pyspark.ml import Pipeline\n",
        "from bigdl.dllib.nnframes import NNClassifier, NNEstimator, ChainedPreprocessing\n",
        "from bigdl.dllib.nn.criterion import CrossEntropyCriterion\n",
        "from bigdl.dllib.optim.optimizer import TrainSummary\n",
        "from bigdl.dllib.feature.image import (RowToImageFeature, ImageResize, \n",
        "                                       ImageChannelNormalize, ImageMatToTensor, \n",
        "                                       ImageFeatureToTensor)\n",
        "\n",
        "batchsize = 128\n",
        "nEpochs = 10\n",
        "featureTransformer = \\\n",
        "      ChainedPreprocessing([\n",
        "        RowToImageFeature(),\n",
        "        ImageResize(64, 64),\n",
        "        ImageMatToTensor(), \n",
        "        ImageFeatureToTensor() \n",
        "      ])\n",
        "\n",
        "import os\n",
        "if not os.path.exists(\"log\"):\n",
        "    os.makedirs(\"log\")\n",
        "train_summary = TrainSummary(log_dir=\"log\", app_name=\"chest_xray\")\n",
        "\n",
        "classifier = \\\n",
        "      NNClassifier(kmodel, CrossEntropyCriterion(), featureTransformer)\\\n",
        "        .setFeaturesCol(\"image\")\\\n",
        "        .setLearningRate(0.003)\\\n",
        "        .setBatchSize(batchsize)\\\n",
        "        .setMaxEpoch(nEpochs)\\\n",
        "        #.setTrainSummary(train_summary)     \n",
        "\n",
        "        #.setValidation(EveryEpoch(), val, [Top1Accuracy()], batchsize)"
      ],
      "metadata": {
        "colab": {
          "base_uri": "https://localhost:8080/"
        },
        "id": "UNNdIZKYPWzD",
        "outputId": "5f3afe62-3a4d-406d-ae62-2270e0e4737b"
      },
      "execution_count": null,
      "outputs": [
        {
          "output_type": "stream",
          "name": "stdout",
          "text": [
            "creating: createRowToImageFeature\n",
            "creating: createImageResize\n",
            "creating: createImageMatToTensor\n",
            "creating: createImageFeatureToTensor\n",
            "creating: createChainedPreprocessing\n",
            "creating: createTrainSummary\n",
            "creating: createCrossEntropyCriterion\n",
            "creating: createScalarToTensor\n",
            "creating: createFeatureLabelPreprocessing\n",
            "creating: createNNClassifier\n"
          ]
        }
      ]
    },
    {
      "cell_type": "markdown",
      "source": [
        "## After creating the model, in the fitting step we obtained an error. we tryed to find everywhere a solution, and we asked for help, but at the end we couldn't find any solution for the error. So we couldn't obtain any result"
      ],
      "metadata": {
        "id": "7C-wSGVuQREH"
      }
    },
    {
      "cell_type": "code",
      "source": [
        "model = classifier.fit(train)"
      ],
      "metadata": {
        "id": "DxJpZxGVk5Tk",
        "colab": {
          "base_uri": "https://localhost:8080/",
          "height": 1000
        },
        "outputId": "3578631e-539d-414a-e761-3cc4a05e7629"
      },
      "execution_count": null,
      "outputs": [
        {
          "output_type": "error",
          "ename": "Py4JJavaError",
          "evalue": "ignored",
          "traceback": [
            "\u001b[0;31m---------------------------------------------------------------------------\u001b[0m",
            "\u001b[0;31mPy4JJavaError\u001b[0m                             Traceback (most recent call last)",
            "\u001b[0;32m<ipython-input-13-5b90efe684b8>\u001b[0m in \u001b[0;36m<module>\u001b[0;34m\u001b[0m\n\u001b[0;32m----> 1\u001b[0;31m \u001b[0mmodel\u001b[0m \u001b[0;34m=\u001b[0m \u001b[0mclassifier\u001b[0m\u001b[0;34m.\u001b[0m\u001b[0mfit\u001b[0m\u001b[0;34m(\u001b[0m\u001b[0mtrain\u001b[0m\u001b[0;34m)\u001b[0m\u001b[0;34m\u001b[0m\u001b[0;34m\u001b[0m\u001b[0m\n\u001b[0m",
            "\u001b[0;32m/usr/local/lib/python3.8/dist-packages/pyspark/ml/base.py\u001b[0m in \u001b[0;36mfit\u001b[0;34m(self, dataset, params)\u001b[0m\n\u001b[1;32m    159\u001b[0m                 \u001b[0;32mreturn\u001b[0m \u001b[0mself\u001b[0m\u001b[0;34m.\u001b[0m\u001b[0mcopy\u001b[0m\u001b[0;34m(\u001b[0m\u001b[0mparams\u001b[0m\u001b[0;34m)\u001b[0m\u001b[0;34m.\u001b[0m\u001b[0m_fit\u001b[0m\u001b[0;34m(\u001b[0m\u001b[0mdataset\u001b[0m\u001b[0;34m)\u001b[0m\u001b[0;34m\u001b[0m\u001b[0;34m\u001b[0m\u001b[0m\n\u001b[1;32m    160\u001b[0m             \u001b[0;32melse\u001b[0m\u001b[0;34m:\u001b[0m\u001b[0;34m\u001b[0m\u001b[0;34m\u001b[0m\u001b[0m\n\u001b[0;32m--> 161\u001b[0;31m                 \u001b[0;32mreturn\u001b[0m \u001b[0mself\u001b[0m\u001b[0;34m.\u001b[0m\u001b[0m_fit\u001b[0m\u001b[0;34m(\u001b[0m\u001b[0mdataset\u001b[0m\u001b[0;34m)\u001b[0m\u001b[0;34m\u001b[0m\u001b[0;34m\u001b[0m\u001b[0m\n\u001b[0m\u001b[1;32m    162\u001b[0m         \u001b[0;32melse\u001b[0m\u001b[0;34m:\u001b[0m\u001b[0;34m\u001b[0m\u001b[0;34m\u001b[0m\u001b[0m\n\u001b[1;32m    163\u001b[0m             raise ValueError(\"Params must be either a param map or a list/tuple of param maps, \"\n",
            "\u001b[0;32m/usr/local/lib/python3.8/dist-packages/pyspark/ml/wrapper.py\u001b[0m in \u001b[0;36m_fit\u001b[0;34m(self, dataset)\u001b[0m\n\u001b[1;32m    333\u001b[0m \u001b[0;34m\u001b[0m\u001b[0m\n\u001b[1;32m    334\u001b[0m     \u001b[0;32mdef\u001b[0m \u001b[0m_fit\u001b[0m\u001b[0;34m(\u001b[0m\u001b[0mself\u001b[0m\u001b[0;34m,\u001b[0m \u001b[0mdataset\u001b[0m\u001b[0;34m)\u001b[0m\u001b[0;34m:\u001b[0m\u001b[0;34m\u001b[0m\u001b[0;34m\u001b[0m\u001b[0m\n\u001b[0;32m--> 335\u001b[0;31m         \u001b[0mjava_model\u001b[0m \u001b[0;34m=\u001b[0m \u001b[0mself\u001b[0m\u001b[0;34m.\u001b[0m\u001b[0m_fit_java\u001b[0m\u001b[0;34m(\u001b[0m\u001b[0mdataset\u001b[0m\u001b[0;34m)\u001b[0m\u001b[0;34m\u001b[0m\u001b[0;34m\u001b[0m\u001b[0m\n\u001b[0m\u001b[1;32m    336\u001b[0m         \u001b[0mmodel\u001b[0m \u001b[0;34m=\u001b[0m \u001b[0mself\u001b[0m\u001b[0;34m.\u001b[0m\u001b[0m_create_model\u001b[0m\u001b[0;34m(\u001b[0m\u001b[0mjava_model\u001b[0m\u001b[0;34m)\u001b[0m\u001b[0;34m\u001b[0m\u001b[0;34m\u001b[0m\u001b[0m\n\u001b[1;32m    337\u001b[0m         \u001b[0;32mreturn\u001b[0m \u001b[0mself\u001b[0m\u001b[0;34m.\u001b[0m\u001b[0m_copyValues\u001b[0m\u001b[0;34m(\u001b[0m\u001b[0mmodel\u001b[0m\u001b[0;34m)\u001b[0m\u001b[0;34m\u001b[0m\u001b[0;34m\u001b[0m\u001b[0m\n",
            "\u001b[0;32m/usr/local/lib/python3.8/dist-packages/pyspark/ml/wrapper.py\u001b[0m in \u001b[0;36m_fit_java\u001b[0;34m(self, dataset)\u001b[0m\n\u001b[1;32m    330\u001b[0m         \"\"\"\n\u001b[1;32m    331\u001b[0m         \u001b[0mself\u001b[0m\u001b[0;34m.\u001b[0m\u001b[0m_transfer_params_to_java\u001b[0m\u001b[0;34m(\u001b[0m\u001b[0;34m)\u001b[0m\u001b[0;34m\u001b[0m\u001b[0;34m\u001b[0m\u001b[0m\n\u001b[0;32m--> 332\u001b[0;31m         \u001b[0;32mreturn\u001b[0m \u001b[0mself\u001b[0m\u001b[0;34m.\u001b[0m\u001b[0m_java_obj\u001b[0m\u001b[0;34m.\u001b[0m\u001b[0mfit\u001b[0m\u001b[0;34m(\u001b[0m\u001b[0mdataset\u001b[0m\u001b[0;34m.\u001b[0m\u001b[0m_jdf\u001b[0m\u001b[0;34m)\u001b[0m\u001b[0;34m\u001b[0m\u001b[0;34m\u001b[0m\u001b[0m\n\u001b[0m\u001b[1;32m    333\u001b[0m \u001b[0;34m\u001b[0m\u001b[0m\n\u001b[1;32m    334\u001b[0m     \u001b[0;32mdef\u001b[0m \u001b[0m_fit\u001b[0m\u001b[0;34m(\u001b[0m\u001b[0mself\u001b[0m\u001b[0;34m,\u001b[0m \u001b[0mdataset\u001b[0m\u001b[0;34m)\u001b[0m\u001b[0;34m:\u001b[0m\u001b[0;34m\u001b[0m\u001b[0;34m\u001b[0m\u001b[0m\n",
            "\u001b[0;32m/usr/local/lib/python3.8/dist-packages/py4j/java_gateway.py\u001b[0m in \u001b[0;36m__call__\u001b[0;34m(self, *args)\u001b[0m\n\u001b[1;32m   1302\u001b[0m \u001b[0;34m\u001b[0m\u001b[0m\n\u001b[1;32m   1303\u001b[0m         \u001b[0manswer\u001b[0m \u001b[0;34m=\u001b[0m \u001b[0mself\u001b[0m\u001b[0;34m.\u001b[0m\u001b[0mgateway_client\u001b[0m\u001b[0;34m.\u001b[0m\u001b[0msend_command\u001b[0m\u001b[0;34m(\u001b[0m\u001b[0mcommand\u001b[0m\u001b[0;34m)\u001b[0m\u001b[0;34m\u001b[0m\u001b[0;34m\u001b[0m\u001b[0m\n\u001b[0;32m-> 1304\u001b[0;31m         return_value = get_return_value(\n\u001b[0m\u001b[1;32m   1305\u001b[0m             answer, self.gateway_client, self.target_id, self.name)\n\u001b[1;32m   1306\u001b[0m \u001b[0;34m\u001b[0m\u001b[0m\n",
            "\u001b[0;32m/usr/local/lib/python3.8/dist-packages/pyspark/sql/utils.py\u001b[0m in \u001b[0;36mdeco\u001b[0;34m(*a, **kw)\u001b[0m\n\u001b[1;32m    109\u001b[0m     \u001b[0;32mdef\u001b[0m \u001b[0mdeco\u001b[0m\u001b[0;34m(\u001b[0m\u001b[0;34m*\u001b[0m\u001b[0ma\u001b[0m\u001b[0;34m,\u001b[0m \u001b[0;34m**\u001b[0m\u001b[0mkw\u001b[0m\u001b[0;34m)\u001b[0m\u001b[0;34m:\u001b[0m\u001b[0;34m\u001b[0m\u001b[0;34m\u001b[0m\u001b[0m\n\u001b[1;32m    110\u001b[0m         \u001b[0;32mtry\u001b[0m\u001b[0;34m:\u001b[0m\u001b[0;34m\u001b[0m\u001b[0;34m\u001b[0m\u001b[0m\n\u001b[0;32m--> 111\u001b[0;31m             \u001b[0;32mreturn\u001b[0m \u001b[0mf\u001b[0m\u001b[0;34m(\u001b[0m\u001b[0;34m*\u001b[0m\u001b[0ma\u001b[0m\u001b[0;34m,\u001b[0m \u001b[0;34m**\u001b[0m\u001b[0mkw\u001b[0m\u001b[0;34m)\u001b[0m\u001b[0;34m\u001b[0m\u001b[0;34m\u001b[0m\u001b[0m\n\u001b[0m\u001b[1;32m    112\u001b[0m         \u001b[0;32mexcept\u001b[0m \u001b[0mpy4j\u001b[0m\u001b[0;34m.\u001b[0m\u001b[0mprotocol\u001b[0m\u001b[0;34m.\u001b[0m\u001b[0mPy4JJavaError\u001b[0m \u001b[0;32mas\u001b[0m \u001b[0me\u001b[0m\u001b[0;34m:\u001b[0m\u001b[0;34m\u001b[0m\u001b[0;34m\u001b[0m\u001b[0m\n\u001b[1;32m    113\u001b[0m             \u001b[0mconverted\u001b[0m \u001b[0;34m=\u001b[0m \u001b[0mconvert_exception\u001b[0m\u001b[0;34m(\u001b[0m\u001b[0me\u001b[0m\u001b[0;34m.\u001b[0m\u001b[0mjava_exception\u001b[0m\u001b[0;34m)\u001b[0m\u001b[0;34m\u001b[0m\u001b[0;34m\u001b[0m\u001b[0m\n",
            "\u001b[0;32m/usr/local/lib/python3.8/dist-packages/py4j/protocol.py\u001b[0m in \u001b[0;36mget_return_value\u001b[0;34m(answer, gateway_client, target_id, name)\u001b[0m\n\u001b[1;32m    324\u001b[0m             \u001b[0mvalue\u001b[0m \u001b[0;34m=\u001b[0m \u001b[0mOUTPUT_CONVERTER\u001b[0m\u001b[0;34m[\u001b[0m\u001b[0mtype\u001b[0m\u001b[0;34m]\u001b[0m\u001b[0;34m(\u001b[0m\u001b[0manswer\u001b[0m\u001b[0;34m[\u001b[0m\u001b[0;36m2\u001b[0m\u001b[0;34m:\u001b[0m\u001b[0;34m]\u001b[0m\u001b[0;34m,\u001b[0m \u001b[0mgateway_client\u001b[0m\u001b[0;34m)\u001b[0m\u001b[0;34m\u001b[0m\u001b[0;34m\u001b[0m\u001b[0m\n\u001b[1;32m    325\u001b[0m             \u001b[0;32mif\u001b[0m \u001b[0manswer\u001b[0m\u001b[0;34m[\u001b[0m\u001b[0;36m1\u001b[0m\u001b[0;34m]\u001b[0m \u001b[0;34m==\u001b[0m \u001b[0mREFERENCE_TYPE\u001b[0m\u001b[0;34m:\u001b[0m\u001b[0;34m\u001b[0m\u001b[0;34m\u001b[0m\u001b[0m\n\u001b[0;32m--> 326\u001b[0;31m                 raise Py4JJavaError(\n\u001b[0m\u001b[1;32m    327\u001b[0m                     \u001b[0;34m\"An error occurred while calling {0}{1}{2}.\\n\"\u001b[0m\u001b[0;34m.\u001b[0m\u001b[0;34m\u001b[0m\u001b[0;34m\u001b[0m\u001b[0m\n\u001b[1;32m    328\u001b[0m                     format(target_id, \".\", name), value)\n",
            "\u001b[0;31mPy4JJavaError\u001b[0m: An error occurred while calling o171.fit.\n: com.intel.analytics.bigdl.dllib.utils.InvalidOperationException\n\tat com.intel.analytics.bigdl.dllib.utils.Log4Error$.invalidOperationError(Log4Error.scala:38)\n\tat com.intel.analytics.bigdl.dllib.keras.models.InternalDistriOptimizer.train(Topology.scala:1161)\n\tat com.intel.analytics.bigdl.dllib.keras.models.InternalDistriOptimizer.train(Topology.scala:1302)\n\tat com.intel.analytics.bigdl.dllib.nnframes.NNEstimator.internalFit(NNEstimator.scala:494)\n\tat com.intel.analytics.bigdl.dllib.nnframes.NNEstimator.internalFit(NNEstimator.scala:202)\n\tat org.apache.spark.ml.DLEstimatorBase.fit(DLEstimatorBase.scala:58)\n\tat org.apache.spark.ml.DLEstimatorBase.fit(DLEstimatorBase.scala:50)\n\tat java.base/jdk.internal.reflect.NativeMethodAccessorImpl.invoke0(Native Method)\n\tat java.base/jdk.internal.reflect.NativeMethodAccessorImpl.invoke(NativeMethodAccessorImpl.java:62)\n\tat java.base/jdk.internal.reflect.DelegatingMethodAccessorImpl.invoke(DelegatingMethodAccessorImpl.java:43)\n\tat java.base/java.lang.reflect.Method.invoke(Method.java:566)\n\tat py4j.reflection.MethodInvoker.invoke(MethodInvoker.java:244)\n\tat py4j.reflection.ReflectionEngine.invoke(ReflectionEngine.java:357)\n\tat py4j.Gateway.invoke(Gateway.java:282)\n\tat py4j.commands.AbstractCommand.invokeMethod(AbstractCommand.java:132)\n\tat py4j.commands.CallCommand.execute(CallCommand.java:79)\n\tat py4j.GatewayConnection.run(GatewayConnection.java:238)\n\tat java.base/java.lang.Thread.run(Thread.java:829)\nCaused by: java.lang.reflect.InvocationTargetException\n\tat java.base/jdk.internal.reflect.NativeMethodAccessorImpl.invoke0(Native Method)\n\tat java.base/jdk.internal.reflect.NativeMethodAccessorImpl.invoke(NativeMethodAccessorImpl.java:62)\n\tat java.base/jdk.internal.reflect.DelegatingMethodAccessorImpl.invoke(DelegatingMethodAccessorImpl.java:43)\n\tat java.base/java.lang.reflect.Method.invoke(Method.java:566)\n\tat com.intel.analytics.bigdl.dllib.keras.layers.utils.KerasUtils$.invokeMethod(KerasUtils.scala:317)\n\tat com.intel.analytics.bigdl.dllib.keras.layers.utils.KerasUtils$.invokeMethodWithEv(KerasUtils.scala:344)\n\tat com.intel.analytics.bigdl.dllib.keras.models.InternalOptimizerUtil$.optimizeModels(Topology.scala:886)\n\tat com.intel.analytics.bigdl.dllib.keras.models.InternalDistriOptimizer.train(Topology.scala:1089)\n\t... 16 more\nCaused by: org.apache.spark.SparkException: Job aborted due to stage failure: Task 0 in stage 17.0 failed 1 times, most recent failure: Lost task 0.0 in stage 17.0 (TID 23) (00f4b10a4e19 executor driver): com.intel.analytics.bigdl.dllib.utils.UnKnownException: com.intel.analytics.bigdl.dllib.utils.InvalidOperationException: input channel size 64 is not the same as nInputPlane 1\n\tat com.intel.analytics.bigdl.dllib.utils.Log4Error$.unKnowExceptionError(Log4Error.scala:60)\n\tat com.intel.analytics.bigdl.dllib.utils.ThreadPool.invokeAndWait2(ThreadPool.scala:175)\n\tat com.intel.analytics.bigdl.dllib.optim.DistriOptimizer$.$anonfun$optimize$4(DistriOptimizer.scala:261)\n\tat org.apache.spark.rdd.ZippedPartitionsRDD2.compute(ZippedPartitionsRDD.scala:89)\n\tat org.apache.spark.rdd.RDD.computeOrReadCheckpoint(RDD.scala:373)\n\tat org.apache.spark.rdd.RDD.iterator(RDD.scala:337)\n\tat org.apache.spark.scheduler.ResultTask.runTask(ResultTask.scala:90)\n\tat org.apache.spark.scheduler.Task.run(Task.scala:131)\n\tat org.apache.spark.executor.Executor$TaskRunner.$anonfun$run$3(Executor.scala:498)\n\tat org.apache.spark.util.Utils$.tryWithSafeFinally(Utils.scala:1439)\n\tat org.apache.spark.executor.Executor$TaskRunner.run(Executor.scala:501)\n\tat java.base/java.util.concurrent.ThreadPoolExecutor.runWorker(ThreadPoolExecutor.java:1128)\n\tat java.base/java.util.concurrent.ThreadPoolExecutor$Worker.run(ThreadPoolExecutor.java:628)\n\tat java.base/java.lang.Thread.run(Thread.java:829)\nCaused by: java.util.concurrent.ExecutionException: com.intel.analytics.bigdl.dllib.utils.InvalidOperationException: input channel size 64 is not the same as nInputPlane 1\n\tat java.base/java.util.concurrent.FutureTask.report(FutureTask.java:122)\n\tat java.base/java.util.concurrent.FutureTask.get(FutureTask.java:191)\n\tat com.intel.analytics.bigdl.dllib.utils.ThreadPool.invokeAndWait2(ThreadPool.scala:172)\n\t... 12 more\nCaused by: com.intel.analytics.bigdl.dllib.utils.InvalidOperationException: input channel size 64 is not the same as nInputPlane 1\n\tat com.intel.analytics.bigdl.dllib.utils.Log4Error$.invalidOperationError(Log4Error.scala:38)\n\tat com.intel.analytics.bigdl.dllib.nn.abstractnn.AbstractModule.forward(AbstractModule.scala:291)\n\tat com.intel.analytics.bigdl.dllib.optim.DistriOptimizer$.$anonfun$optimize$7(DistriOptimizer.scala:271)\n\tat scala.runtime.java8.JFunction0$mcI$sp.apply(JFunction0$mcI$sp.java:23)\n\tat com.intel.analytics.bigdl.dllib.utils.ThreadPool$$anon$4.call(ThreadPool.scala:161)\n\tat java.base/java.util.concurrent.FutureTask.run(FutureTask.java:264)\n\t... 3 more\nCaused by: com.intel.analytics.bigdl.dllib.utils.InvalidOperationException: input channel size 64 is not the same as nInputPlane 1\n\tat com.intel.analytics.bigdl.dllib.utils.Log4Error$.invalidOperationError(Log4Error.scala:38)\n\tat com.intel.analytics.bigdl.dllib.nn.abstractnn.AbstractModule.forward(AbstractModule.scala:291)\n\tat com.intel.analytics.bigdl.dllib.nn.Sequential.updateOutput(Sequential.scala:39)\n\tat com.intel.analytics.bigdl.dllib.nn.internal.KerasLayer.updateOutput(KerasLayer.scala:275)\n\tat com.intel.analytics.bigdl.dllib.nn.abstractnn.AbstractModule.forward(AbstractModule.scala:285)\n\t... 7 more\nCaused by: com.intel.analytics.bigdl.dllib.utils.InvalidOperationException: input channel size 64 is not the same as nInputPlane 1\n\tat com.intel.analytics.bigdl.dllib.utils.Log4Error$.invalidOperationError(Log4Error.scala:38)\n\tat com.intel.analytics.bigdl.dllib.nn.abstractnn.AbstractModule.forward(AbstractModule.scala:288)\n\tat com.intel.analytics.bigdl.dllib.nn.Sequential.updateOutput(Sequential.scala:39)\n\tat com.intel.analytics.bigdl.dllib.nn.internal.KerasLayer.updateOutput(KerasLayer.scala:275)\n\tat com.intel.analytics.bigdl.dllib.nn.internal.KerasLayer.updateOutput(KerasLayer.scala:275)\n\tat com.intel.analytics.bigdl.dllib.nn.abstractnn.AbstractModule.forward(AbstractModule.scala:285)\n\t... 10 more\nCaused by: java.lang.IllegalArgumentException: input channel size 64 is not the same as nInputPlane 1\n\tat com.intel.analytics.bigdl.dllib.utils.Log4Error$.invalidInputError(Log4Error.scala:28)\n\tat com.intel.analytics.bigdl.dllib.nn.SpatialConvolution.updateOutput(SpatialConvolution.scala:268)\n\tat com.intel.analytics.bigdl.dllib.nn.SpatialConvolution.updateOutput(SpatialConvolution.scala:55)\n\tat com.intel.analytics.bigdl.dllib.nn.internal.KerasLayer.updateOutput(KerasLayer.scala:275)\n\tat com.intel.analytics.bigdl.dllib.nn.abstractnn.AbstractModule.forward(AbstractModule.scala:285)\n\t... 14 more\n\nDriver stacktrace:\n\tat org.apache.spark.scheduler.DAGScheduler.failJobAndIndependentStages(DAGScheduler.scala:2303)\n\tat org.apache.spark.scheduler.DAGScheduler.$anonfun$abortStage$2(DAGScheduler.scala:2252)\n\tat org.apache.spark.scheduler.DAGScheduler.$anonfun$abortStage$2$adapted(DAGScheduler.scala:2251)\n\tat scala.collection.mutable.ResizableArray.foreach(ResizableArray.scala:62)\n\tat scala.collection.mutable.ResizableArray.foreach$(ResizableArray.scala:55)\n\tat scala.collection.mutable.ArrayBuffer.foreach(ArrayBuffer.scala:49)\n\tat org.apache.spark.scheduler.DAGScheduler.abortStage(DAGScheduler.scala:2251)\n\tat org.apache.spark.scheduler.DAGScheduler.$anonfun$handleTaskSetFailed$1(DAGScheduler.scala:1124)\n\tat org.apache.spark.scheduler.DAGScheduler.$anonfun$handleTaskSetFailed$1$adapted(DAGScheduler.scala:1124)\n\tat scala.Option.foreach(Option.scala:407)\n\tat org.apache.spark.scheduler.DAGScheduler.handleTaskSetFailed(DAGScheduler.scala:1124)\n\tat org.apache.spark.scheduler.DAGSchedulerEventProcessLoop.doOnReceive(DAGScheduler.scala:2490)\n\tat org.apache.spark.scheduler.DAGSchedulerEventProcessLoop.onReceive(DAGScheduler.scala:2432)\n\tat org.apache.spark.scheduler.DAGSchedulerEventProcessLoop.onReceive(DAGScheduler.scala:2421)\n\tat org.apache.spark.util.EventLoop$$anon$1.run(EventLoop.scala:49)\n\tat org.apache.spark.scheduler.DAGScheduler.runJob(DAGScheduler.scala:902)\n\tat org.apache.spark.SparkContext.runJob(SparkContext.scala:2196)\n\tat org.apache.spark.SparkContext.runJob(SparkContext.scala:2291)\n\tat org.apache.spark.rdd.RDD.$anonfun$reduce$1(RDD.scala:1120)\n\tat org.apache.spark.rdd.RDDOperationScope$.withScope(RDDOperationScope.scala:151)\n\tat org.apache.spark.rdd.RDDOperationScope$.withScope(RDDOperationScope.scala:112)\n\tat org.apache.spark.rdd.RDD.withScope(RDD.scala:414)\n\tat org.apache.spark.rdd.RDD.reduce(RDD.scala:1102)\n\tat com.intel.analytics.bigdl.dllib.optim.DistriOptimizer$.optimize(DistriOptimizer.scala:355)\n\t... 24 more\nCaused by: com.intel.analytics.bigdl.dllib.utils.UnKnownException: com.intel.analytics.bigdl.dllib.utils.InvalidOperationException: input channel size 64 is not the same as nInputPlane 1\n\tat com.intel.analytics.bigdl.dllib.utils.Log4Error$.unKnowExceptionError(Log4Error.scala:60)\n\tat com.intel.analytics.bigdl.dllib.utils.ThreadPool.invokeAndWait2(ThreadPool.scala:175)\n\tat com.intel.analytics.bigdl.dllib.optim.DistriOptimizer$.$anonfun$optimize$4(DistriOptimizer.scala:261)\n\tat org.apache.spark.rdd.ZippedPartitionsRDD2.compute(ZippedPartitionsRDD.scala:89)\n\tat org.apache.spark.rdd.RDD.computeOrReadCheckpoint(RDD.scala:373)\n\tat org.apache.spark.rdd.RDD.iterator(RDD.scala:337)\n\tat org.apache.spark.scheduler.ResultTask.runTask(ResultTask.scala:90)\n\tat org.apache.spark.scheduler.Task.run(Task.scala:131)\n\tat org.apache.spark.executor.Executor$TaskRunner.$anonfun$run$3(Executor.scala:498)\n\tat org.apache.spark.util.Utils$.tryWithSafeFinally(Utils.scala:1439)\n\tat org.apache.spark.executor.Executor$TaskRunner.run(Executor.scala:501)\n\tat java.base/java.util.concurrent.ThreadPoolExecutor.runWorker(ThreadPoolExecutor.java:1128)\n\tat java.base/java.util.concurrent.ThreadPoolExecutor$Worker.run(ThreadPoolExecutor.java:628)\n\t... 1 more\nCaused by: java.util.concurrent.ExecutionException: com.intel.analytics.bigdl.dllib.utils.InvalidOperationException: input channel size 64 is not the same as nInputPlane 1\n\tat java.base/java.util.concurrent.FutureTask.report(FutureTask.java:122)\n\tat java.base/java.util.concurrent.FutureTask.get(FutureTask.java:191)\n\tat com.intel.analytics.bigdl.dllib.utils.ThreadPool.invokeAndWait2(ThreadPool.scala:172)\n\t... 12 more\nCaused by: com.intel.analytics.bigdl.dllib.utils.InvalidOperationException: input channel size 64 is not the same as nInputPlane 1\n\tat com.intel.analytics.bigdl.dllib.utils.Log4Error$.invalidOperationError(Log4Error.scala:38)\n\tat com.intel.analytics.bigdl.dllib.nn.abstractnn.AbstractModule.forward(AbstractModule.scala:291)\n\tat com.intel.analytics.bigdl.dllib.optim.DistriOptimizer$.$anonfun$optimize$7(DistriOptimizer.scala:271)\n\tat scala.runtime.java8.JFunction0$mcI$sp.apply(JFunction0$mcI$sp.java:23)\n\tat com.intel.analytics.bigdl.dllib.utils.ThreadPool$$anon$4.call(ThreadPool.scala:161)\n\tat java.base/java.util.concurrent.FutureTask.run(FutureTask.java:264)\n\t... 3 more\nCaused by: com.intel.analytics.bigdl.dllib.utils.InvalidOperationException: input channel size 64 is not the same as nInputPlane 1\n\tat com.intel.analytics.bigdl.dllib.utils.Log4Error$.invalidOperationError(Log4Error.scala:38)\n\tat com.intel.analytics.bigdl.dllib.nn.abstractnn.AbstractModule.forward(AbstractModule.scala:291)\n\tat com.intel.analytics.bigdl.dllib.nn.Sequential.updateOutput(Sequential.scala:39)\n\tat com.intel.analytics.bigdl.dllib.nn.internal.KerasLayer.updateOutput(KerasLayer.scala:275)\n\tat com.intel.analytics.bigdl.dllib.nn.abstractnn.AbstractModule.forward(AbstractModule.scala:285)\n\t... 7 more\nCaused by: com.intel.analytics.bigdl.dllib.utils.InvalidOperationException: input channel size 64 is not the same as nInputPlane 1\n\tat com.intel.analytics.bigdl.dllib.utils.Log4Error$.invalidOperationError(Log4Error.scala:38)\n\tat com.intel.analytics.bigdl.dllib.nn.abstractnn.AbstractModule.forward(AbstractModule.scala:288)\n\tat com.intel.analytics.bigdl.dllib.nn.Sequential.updateOutput(Sequential.scala:39)\n\tat com.intel.analytics.bigdl.dllib.nn.internal.KerasLayer.updateOutput(KerasLayer.scala:275)\n\tat com.intel.analytics.bigdl.dllib.nn.internal.KerasLayer.updateOutput(KerasLayer.scala:275)\n\tat com.intel.analytics.bigdl.dllib.nn.abstractnn.AbstractModule.forward(AbstractModule.scala:285)\n\t... 10 more\nCaused by: java.lang.IllegalArgumentException: input channel size 64 is not the same as nInputPlane 1\n\tat com.intel.analytics.bigdl.dllib.utils.Log4Error$.invalidInputError(Log4Error.scala:28)\n\tat com.intel.analytics.bigdl.dllib.nn.SpatialConvolution.updateOutput(SpatialConvolution.scala:268)\n\tat com.intel.analytics.bigdl.dllib.nn.SpatialConvolution.updateOutput(SpatialConvolution.scala:55)\n\tat com.intel.analytics.bigdl.dllib.nn.internal.KerasLayer.updateOutput(KerasLayer.scala:275)\n\tat com.intel.analytics.bigdl.dllib.nn.abstractnn.AbstractModule.forward(AbstractModule.scala:285)\n\t... 14 more\n"
          ]
        }
      ]
    },
    {
      "cell_type": "code",
      "source": [],
      "metadata": {
        "id": "lu-A7y31QfPq"
      },
      "execution_count": null,
      "outputs": []
    },
    {
      "cell_type": "markdown",
      "source": [
        "## if the previous step would have work we could have done the study of accuracy of the model"
      ],
      "metadata": {
        "id": "retZoRwjQf7t"
      }
    },
    {
      "cell_type": "code",
      "source": [
        "predictions = model.transform(test)"
      ],
      "metadata": {
        "id": "D-qRi76-k8db"
      },
      "execution_count": null,
      "outputs": []
    },
    {
      "cell_type": "code",
      "source": [
        "for p in predictions:\n",
        "    print(p, \":\", predictions[p])"
      ],
      "metadata": {
        "id": "AQNH7NNV8eX0"
      },
      "execution_count": null,
      "outputs": []
    }
  ]
}